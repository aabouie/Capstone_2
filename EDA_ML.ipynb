{
 "cells": [
  {
   "cell_type": "code",
   "execution_count": 49,
   "metadata": {},
   "outputs": [],
   "source": [
    "import pandas as pd\n",
    "import numpy as np\n",
    "import matplotlib.pyplot as plt\n",
    "import re"
   ]
  },
  {
   "cell_type": "code",
   "execution_count": 50,
   "metadata": {},
   "outputs": [],
   "source": [
    "pd.options.display.max_columns = None"
   ]
  },
  {
   "cell_type": "code",
   "execution_count": 51,
   "metadata": {},
   "outputs": [
    {
     "data": {
      "text/html": [
       "<div>\n",
       "<style scoped>\n",
       "    .dataframe tbody tr th:only-of-type {\n",
       "        vertical-align: middle;\n",
       "    }\n",
       "\n",
       "    .dataframe tbody tr th {\n",
       "        vertical-align: top;\n",
       "    }\n",
       "\n",
       "    .dataframe thead th {\n",
       "        text-align: right;\n",
       "    }\n",
       "</style>\n",
       "<table border=\"1\" class=\"dataframe\">\n",
       "  <thead>\n",
       "    <tr style=\"text-align: right;\">\n",
       "      <th></th>\n",
       "      <th>id</th>\n",
       "      <th>listing_url</th>\n",
       "      <th>scrape_id</th>\n",
       "      <th>last_scraped</th>\n",
       "      <th>name</th>\n",
       "      <th>description</th>\n",
       "      <th>neighborhood_overview</th>\n",
       "      <th>picture_url</th>\n",
       "      <th>host_id</th>\n",
       "      <th>host_url</th>\n",
       "      <th>host_name</th>\n",
       "      <th>host_since</th>\n",
       "      <th>host_location</th>\n",
       "      <th>host_about</th>\n",
       "      <th>host_response_time</th>\n",
       "      <th>host_response_rate</th>\n",
       "      <th>host_acceptance_rate</th>\n",
       "      <th>host_is_superhost</th>\n",
       "      <th>host_thumbnail_url</th>\n",
       "      <th>host_picture_url</th>\n",
       "      <th>host_neighbourhood</th>\n",
       "      <th>host_listings_count</th>\n",
       "      <th>host_total_listings_count</th>\n",
       "      <th>host_verifications</th>\n",
       "      <th>host_has_profile_pic</th>\n",
       "      <th>host_identity_verified</th>\n",
       "      <th>neighbourhood</th>\n",
       "      <th>neighbourhood_cleansed</th>\n",
       "      <th>neighbourhood_group_cleansed</th>\n",
       "      <th>latitude</th>\n",
       "      <th>longitude</th>\n",
       "      <th>property_type</th>\n",
       "      <th>room_type</th>\n",
       "      <th>accommodates</th>\n",
       "      <th>bathrooms</th>\n",
       "      <th>bathrooms_text</th>\n",
       "      <th>bedrooms</th>\n",
       "      <th>beds</th>\n",
       "      <th>amenities</th>\n",
       "      <th>price</th>\n",
       "      <th>minimum_nights</th>\n",
       "      <th>maximum_nights</th>\n",
       "      <th>minimum_minimum_nights</th>\n",
       "      <th>maximum_minimum_nights</th>\n",
       "      <th>minimum_maximum_nights</th>\n",
       "      <th>maximum_maximum_nights</th>\n",
       "      <th>minimum_nights_avg_ntm</th>\n",
       "      <th>maximum_nights_avg_ntm</th>\n",
       "      <th>calendar_updated</th>\n",
       "      <th>has_availability</th>\n",
       "      <th>availability_30</th>\n",
       "      <th>availability_60</th>\n",
       "      <th>availability_90</th>\n",
       "      <th>availability_365</th>\n",
       "      <th>calendar_last_scraped</th>\n",
       "      <th>number_of_reviews</th>\n",
       "      <th>number_of_reviews_ltm</th>\n",
       "      <th>number_of_reviews_l30d</th>\n",
       "      <th>first_review</th>\n",
       "      <th>last_review</th>\n",
       "      <th>review_scores_rating</th>\n",
       "      <th>review_scores_accuracy</th>\n",
       "      <th>review_scores_cleanliness</th>\n",
       "      <th>review_scores_checkin</th>\n",
       "      <th>review_scores_communication</th>\n",
       "      <th>review_scores_location</th>\n",
       "      <th>review_scores_value</th>\n",
       "      <th>license</th>\n",
       "      <th>instant_bookable</th>\n",
       "      <th>calculated_host_listings_count</th>\n",
       "      <th>calculated_host_listings_count_entire_homes</th>\n",
       "      <th>calculated_host_listings_count_private_rooms</th>\n",
       "      <th>calculated_host_listings_count_shared_rooms</th>\n",
       "      <th>reviews_per_month</th>\n",
       "    </tr>\n",
       "  </thead>\n",
       "  <tbody>\n",
       "    <tr>\n",
       "      <th>0</th>\n",
       "      <td>2265</td>\n",
       "      <td>https://www.airbnb.com/rooms/2265</td>\n",
       "      <td>20210210181232</td>\n",
       "      <td>2021-02-12</td>\n",
       "      <td>Zen-East in the Heart of Austin (monthly rental)</td>\n",
       "      <td>Zen East is situated in a vibrant &amp; diverse mu...</td>\n",
       "      <td>NaN</td>\n",
       "      <td>https://a0.muscache.com/pictures/4740524/63f82...</td>\n",
       "      <td>2466</td>\n",
       "      <td>https://www.airbnb.com/users/show/2466</td>\n",
       "      <td>Paddy</td>\n",
       "      <td>2008-08-23</td>\n",
       "      <td>Austin, Texas, United States</td>\n",
       "      <td>I am a long time resident of Austin. I earned ...</td>\n",
       "      <td>within a few hours</td>\n",
       "      <td>100%</td>\n",
       "      <td>90%</td>\n",
       "      <td>f</td>\n",
       "      <td>https://a0.muscache.com/im/users/2466/profile_...</td>\n",
       "      <td>https://a0.muscache.com/im/users/2466/profile_...</td>\n",
       "      <td>East Downtown</td>\n",
       "      <td>3.0</td>\n",
       "      <td>3.0</td>\n",
       "      <td>['email', 'phone', 'facebook', 'reviews', 'kba']</td>\n",
       "      <td>t</td>\n",
       "      <td>t</td>\n",
       "      <td>NaN</td>\n",
       "      <td>78702</td>\n",
       "      <td>NaN</td>\n",
       "      <td>30.27750</td>\n",
       "      <td>-97.71398</td>\n",
       "      <td>Entire house</td>\n",
       "      <td>Entire home/apt</td>\n",
       "      <td>4</td>\n",
       "      <td>NaN</td>\n",
       "      <td>2 baths</td>\n",
       "      <td>2.0</td>\n",
       "      <td>2.0</td>\n",
       "      <td>[\"Free parking on premises\", \"Hair dryer\", \"Pa...</td>\n",
       "      <td>$200.00</td>\n",
       "      <td>7</td>\n",
       "      <td>180</td>\n",
       "      <td>7.0</td>\n",
       "      <td>7.0</td>\n",
       "      <td>180.0</td>\n",
       "      <td>180.0</td>\n",
       "      <td>7.0</td>\n",
       "      <td>180.0</td>\n",
       "      <td>NaN</td>\n",
       "      <td>t</td>\n",
       "      <td>13</td>\n",
       "      <td>13</td>\n",
       "      <td>42</td>\n",
       "      <td>131</td>\n",
       "      <td>2021-02-12</td>\n",
       "      <td>24</td>\n",
       "      <td>0</td>\n",
       "      <td>0</td>\n",
       "      <td>2009-03-17</td>\n",
       "      <td>2019-03-16</td>\n",
       "      <td>93.0</td>\n",
       "      <td>9.0</td>\n",
       "      <td>10.0</td>\n",
       "      <td>10.0</td>\n",
       "      <td>10.0</td>\n",
       "      <td>8.0</td>\n",
       "      <td>9.0</td>\n",
       "      <td>NaN</td>\n",
       "      <td>f</td>\n",
       "      <td>3</td>\n",
       "      <td>2</td>\n",
       "      <td>1</td>\n",
       "      <td>0</td>\n",
       "      <td>0.17</td>\n",
       "    </tr>\n",
       "    <tr>\n",
       "      <th>1</th>\n",
       "      <td>5245</td>\n",
       "      <td>https://www.airbnb.com/rooms/5245</td>\n",
       "      <td>20210210181232</td>\n",
       "      <td>2021-02-12</td>\n",
       "      <td>Eco friendly, Colorful, Clean, Cozy monthly share</td>\n",
       "      <td>Situated in a vibrant &amp; diverse multicultural ...</td>\n",
       "      <td>NaN</td>\n",
       "      <td>https://a0.muscache.com/pictures/5167505/b33b5...</td>\n",
       "      <td>2466</td>\n",
       "      <td>https://www.airbnb.com/users/show/2466</td>\n",
       "      <td>Paddy</td>\n",
       "      <td>2008-08-23</td>\n",
       "      <td>Austin, Texas, United States</td>\n",
       "      <td>I am a long time resident of Austin. I earned ...</td>\n",
       "      <td>within a few hours</td>\n",
       "      <td>100%</td>\n",
       "      <td>90%</td>\n",
       "      <td>f</td>\n",
       "      <td>https://a0.muscache.com/im/users/2466/profile_...</td>\n",
       "      <td>https://a0.muscache.com/im/users/2466/profile_...</td>\n",
       "      <td>East Downtown</td>\n",
       "      <td>3.0</td>\n",
       "      <td>3.0</td>\n",
       "      <td>['email', 'phone', 'facebook', 'reviews', 'kba']</td>\n",
       "      <td>t</td>\n",
       "      <td>t</td>\n",
       "      <td>NaN</td>\n",
       "      <td>78702</td>\n",
       "      <td>NaN</td>\n",
       "      <td>30.27577</td>\n",
       "      <td>-97.71379</td>\n",
       "      <td>Private room in house</td>\n",
       "      <td>Private room</td>\n",
       "      <td>2</td>\n",
       "      <td>NaN</td>\n",
       "      <td>1 private bath</td>\n",
       "      <td>1.0</td>\n",
       "      <td>2.0</td>\n",
       "      <td>[\"Free parking on premises\", \"Hair dryer\", \"Br...</td>\n",
       "      <td>$114.00</td>\n",
       "      <td>30</td>\n",
       "      <td>60</td>\n",
       "      <td>30.0</td>\n",
       "      <td>30.0</td>\n",
       "      <td>60.0</td>\n",
       "      <td>60.0</td>\n",
       "      <td>30.0</td>\n",
       "      <td>60.0</td>\n",
       "      <td>NaN</td>\n",
       "      <td>t</td>\n",
       "      <td>0</td>\n",
       "      <td>0</td>\n",
       "      <td>0</td>\n",
       "      <td>0</td>\n",
       "      <td>2021-02-12</td>\n",
       "      <td>9</td>\n",
       "      <td>0</td>\n",
       "      <td>0</td>\n",
       "      <td>2009-03-19</td>\n",
       "      <td>2018-03-14</td>\n",
       "      <td>91.0</td>\n",
       "      <td>10.0</td>\n",
       "      <td>8.0</td>\n",
       "      <td>10.0</td>\n",
       "      <td>9.0</td>\n",
       "      <td>10.0</td>\n",
       "      <td>9.0</td>\n",
       "      <td>NaN</td>\n",
       "      <td>f</td>\n",
       "      <td>3</td>\n",
       "      <td>2</td>\n",
       "      <td>1</td>\n",
       "      <td>0</td>\n",
       "      <td>0.06</td>\n",
       "    </tr>\n",
       "  </tbody>\n",
       "</table>\n",
       "</div>"
      ],
      "text/plain": [
       "     id                        listing_url       scrape_id last_scraped  \\\n",
       "0  2265  https://www.airbnb.com/rooms/2265  20210210181232   2021-02-12   \n",
       "1  5245  https://www.airbnb.com/rooms/5245  20210210181232   2021-02-12   \n",
       "\n",
       "                                                name  \\\n",
       "0   Zen-East in the Heart of Austin (monthly rental)   \n",
       "1  Eco friendly, Colorful, Clean, Cozy monthly share   \n",
       "\n",
       "                                         description neighborhood_overview  \\\n",
       "0  Zen East is situated in a vibrant & diverse mu...                   NaN   \n",
       "1  Situated in a vibrant & diverse multicultural ...                   NaN   \n",
       "\n",
       "                                         picture_url  host_id  \\\n",
       "0  https://a0.muscache.com/pictures/4740524/63f82...     2466   \n",
       "1  https://a0.muscache.com/pictures/5167505/b33b5...     2466   \n",
       "\n",
       "                                 host_url host_name  host_since  \\\n",
       "0  https://www.airbnb.com/users/show/2466     Paddy  2008-08-23   \n",
       "1  https://www.airbnb.com/users/show/2466     Paddy  2008-08-23   \n",
       "\n",
       "                  host_location  \\\n",
       "0  Austin, Texas, United States   \n",
       "1  Austin, Texas, United States   \n",
       "\n",
       "                                          host_about  host_response_time  \\\n",
       "0  I am a long time resident of Austin. I earned ...  within a few hours   \n",
       "1  I am a long time resident of Austin. I earned ...  within a few hours   \n",
       "\n",
       "  host_response_rate host_acceptance_rate host_is_superhost  \\\n",
       "0               100%                  90%                 f   \n",
       "1               100%                  90%                 f   \n",
       "\n",
       "                                  host_thumbnail_url  \\\n",
       "0  https://a0.muscache.com/im/users/2466/profile_...   \n",
       "1  https://a0.muscache.com/im/users/2466/profile_...   \n",
       "\n",
       "                                    host_picture_url host_neighbourhood  \\\n",
       "0  https://a0.muscache.com/im/users/2466/profile_...      East Downtown   \n",
       "1  https://a0.muscache.com/im/users/2466/profile_...      East Downtown   \n",
       "\n",
       "   host_listings_count  host_total_listings_count  \\\n",
       "0                  3.0                        3.0   \n",
       "1                  3.0                        3.0   \n",
       "\n",
       "                                 host_verifications host_has_profile_pic  \\\n",
       "0  ['email', 'phone', 'facebook', 'reviews', 'kba']                    t   \n",
       "1  ['email', 'phone', 'facebook', 'reviews', 'kba']                    t   \n",
       "\n",
       "  host_identity_verified neighbourhood  neighbourhood_cleansed  \\\n",
       "0                      t           NaN                   78702   \n",
       "1                      t           NaN                   78702   \n",
       "\n",
       "   neighbourhood_group_cleansed  latitude  longitude          property_type  \\\n",
       "0                           NaN  30.27750  -97.71398           Entire house   \n",
       "1                           NaN  30.27577  -97.71379  Private room in house   \n",
       "\n",
       "         room_type  accommodates  bathrooms  bathrooms_text  bedrooms  beds  \\\n",
       "0  Entire home/apt             4        NaN         2 baths       2.0   2.0   \n",
       "1     Private room             2        NaN  1 private bath       1.0   2.0   \n",
       "\n",
       "                                           amenities    price  minimum_nights  \\\n",
       "0  [\"Free parking on premises\", \"Hair dryer\", \"Pa...  $200.00               7   \n",
       "1  [\"Free parking on premises\", \"Hair dryer\", \"Br...  $114.00              30   \n",
       "\n",
       "   maximum_nights  minimum_minimum_nights  maximum_minimum_nights  \\\n",
       "0             180                     7.0                     7.0   \n",
       "1              60                    30.0                    30.0   \n",
       "\n",
       "   minimum_maximum_nights  maximum_maximum_nights  minimum_nights_avg_ntm  \\\n",
       "0                   180.0                   180.0                     7.0   \n",
       "1                    60.0                    60.0                    30.0   \n",
       "\n",
       "   maximum_nights_avg_ntm  calendar_updated has_availability  availability_30  \\\n",
       "0                   180.0               NaN                t               13   \n",
       "1                    60.0               NaN                t                0   \n",
       "\n",
       "   availability_60  availability_90  availability_365 calendar_last_scraped  \\\n",
       "0               13               42               131            2021-02-12   \n",
       "1                0                0                 0            2021-02-12   \n",
       "\n",
       "   number_of_reviews  number_of_reviews_ltm  number_of_reviews_l30d  \\\n",
       "0                 24                      0                       0   \n",
       "1                  9                      0                       0   \n",
       "\n",
       "  first_review last_review  review_scores_rating  review_scores_accuracy  \\\n",
       "0   2009-03-17  2019-03-16                  93.0                     9.0   \n",
       "1   2009-03-19  2018-03-14                  91.0                    10.0   \n",
       "\n",
       "   review_scores_cleanliness  review_scores_checkin  \\\n",
       "0                       10.0                   10.0   \n",
       "1                        8.0                   10.0   \n",
       "\n",
       "   review_scores_communication  review_scores_location  review_scores_value  \\\n",
       "0                         10.0                     8.0                  9.0   \n",
       "1                          9.0                    10.0                  9.0   \n",
       "\n",
       "   license instant_bookable  calculated_host_listings_count  \\\n",
       "0      NaN                f                               3   \n",
       "1      NaN                f                               3   \n",
       "\n",
       "   calculated_host_listings_count_entire_homes  \\\n",
       "0                                            2   \n",
       "1                                            2   \n",
       "\n",
       "   calculated_host_listings_count_private_rooms  \\\n",
       "0                                             1   \n",
       "1                                             1   \n",
       "\n",
       "   calculated_host_listings_count_shared_rooms  reviews_per_month  \n",
       "0                                            0               0.17  \n",
       "1                                            0               0.06  "
      ]
     },
     "execution_count": 51,
     "metadata": {},
     "output_type": "execute_result"
    }
   ],
   "source": [
    "df_listing = pd.read_csv('Data/listings_details.csv')\n",
    "df_reviews = pd.read_csv('Data/reviews_Details.csv')\n",
    "df_scrape = pd.read_csv('Data/Airbnb_Description.csv')\n",
    "df_listing.head(2)"
   ]
  },
  {
   "cell_type": "code",
   "execution_count": 52,
   "metadata": {},
   "outputs": [
    {
     "data": {
      "text/plain": [
       "(10272, 74)"
      ]
     },
     "execution_count": 52,
     "metadata": {},
     "output_type": "execute_result"
    }
   ],
   "source": [
    "df_listing.shape"
   ]
  },
  {
   "cell_type": "markdown",
   "metadata": {},
   "source": [
    "## Performing EDA Analysis"
   ]
  },
  {
   "cell_type": "code",
   "execution_count": 53,
   "metadata": {},
   "outputs": [],
   "source": [
    "# Removing unnecessary columns\n",
    "columns_to_remove = ['scrape_id','last_scraped','neighbourhood_group_cleansed','calendar_updated','license','bathrooms',\n",
    "                     'picture_url','host_has_profile_pic','host_name','host_url','host_thumbnail_url','name',\n",
    "                     'minimum_minimum_nights','maximum_minimum_nights','minimum_maximum_nights','maximum_maximum_nights',\n",
    "                     'minimum_nights_avg_ntm','maximum_nights_avg_ntm','has_availability','host_picture_url',\n",
    "                     'number_of_reviews_l30d','number_of_reviews_ltm','calendar_last_scraped',\n",
    "                     'calculated_host_listings_count','calculated_host_listings_count_entire_homes','calculated_host_listings_count_private_rooms',\n",
    "                     'calculated_host_listings_count_private_rooms','calculated_host_listings_count_shared_rooms','reviews_per_month',\n",
    "                     'availability_30','availability_60','availability_90','availability_365','number_of_reviews',\n",
    "                     'neighbourhood','instant_bookable','host_about',\n",
    "                     'latitude','longitude'] \n",
    "df_listing.drop(columns_to_remove,axis=1,inplace=True)"
   ]
  },
  {
   "cell_type": "code",
   "execution_count": 54,
   "metadata": {},
   "outputs": [
    {
     "name": "stdout",
     "output_type": "stream",
     "text": [
      "<class 'pandas.core.frame.DataFrame'>\n",
      "RangeIndex: 10272 entries, 0 to 10271\n",
      "Data columns (total 36 columns):\n",
      " #   Column                       Non-Null Count  Dtype  \n",
      "---  ------                       --------------  -----  \n",
      " 0   id                           10272 non-null  int64  \n",
      " 1   listing_url                  10272 non-null  object \n",
      " 2   description                  10064 non-null  object \n",
      " 3   neighborhood_overview        6545 non-null   object \n",
      " 4   host_id                      10272 non-null  int64  \n",
      " 5   host_since                   10267 non-null  object \n",
      " 6   host_location                10247 non-null  object \n",
      " 7   host_response_time           6073 non-null   object \n",
      " 8   host_response_rate           6073 non-null   object \n",
      " 9   host_acceptance_rate         6850 non-null   object \n",
      " 10  host_is_superhost            10267 non-null  object \n",
      " 11  host_neighbourhood           8363 non-null   object \n",
      " 12  host_listings_count          10267 non-null  float64\n",
      " 13  host_total_listings_count    10267 non-null  float64\n",
      " 14  host_verifications           10272 non-null  object \n",
      " 15  host_identity_verified       10267 non-null  object \n",
      " 16  neighbourhood_cleansed       10272 non-null  int64  \n",
      " 17  property_type                10272 non-null  object \n",
      " 18  room_type                    10272 non-null  object \n",
      " 19  accommodates                 10272 non-null  int64  \n",
      " 20  bathrooms_text               10256 non-null  object \n",
      " 21  bedrooms                     9577 non-null   float64\n",
      " 22  beds                         10209 non-null  float64\n",
      " 23  amenities                    10272 non-null  object \n",
      " 24  price                        10272 non-null  object \n",
      " 25  minimum_nights               10272 non-null  int64  \n",
      " 26  maximum_nights               10272 non-null  int64  \n",
      " 27  first_review                 7672 non-null   object \n",
      " 28  last_review                  7672 non-null   object \n",
      " 29  review_scores_rating         7562 non-null   float64\n",
      " 30  review_scores_accuracy       7489 non-null   float64\n",
      " 31  review_scores_cleanliness    7489 non-null   float64\n",
      " 32  review_scores_checkin        7488 non-null   float64\n",
      " 33  review_scores_communication  7488 non-null   float64\n",
      " 34  review_scores_location       7483 non-null   float64\n",
      " 35  review_scores_value          7483 non-null   float64\n",
      "dtypes: float64(11), int64(6), object(19)\n",
      "memory usage: 2.8+ MB\n"
     ]
    }
   ],
   "source": [
    "df_listing.info()"
   ]
  },
  {
   "cell_type": "markdown",
   "metadata": {},
   "source": [
    "### Renaming Columns"
   ]
  },
  {
   "cell_type": "code",
   "execution_count": 55,
   "metadata": {},
   "outputs": [],
   "source": [
    "df_listing = df_listing.rename(columns={'neighbourhood_cleansed': 'zip_code'})\n",
    "\n"
   ]
  },
  {
   "cell_type": "markdown",
   "metadata": {},
   "source": [
    "### Converting the columns data format"
   ]
  },
  {
   "cell_type": "code",
   "execution_count": 56,
   "metadata": {},
   "outputs": [],
   "source": [
    "df_listing.first_review = pd.to_datetime(df_listing.first_review)\n",
    "df_listing.last_review = pd.to_datetime(df_listing.last_review)\n",
    "df_listing.host_since = pd.to_datetime(df_listing.host_since)\n",
    "\n",
    "df_listing[\"Timeframe\"] = (df_listing.last_review - df_listing.first_review).dt.days\n",
    "df_listing.drop(['first_review','last_review'],axis=1,inplace=True)"
   ]
  },
  {
   "cell_type": "code",
   "execution_count": 57,
   "metadata": {},
   "outputs": [],
   "source": [
    "# Filtering the prices and remove the highest ones due to SXSW festival\n",
    "df_listing.price = df_listing.price.replace('[\\$,]','',regex=True).astype(float)\n",
    "df_listing = df_listing[df_listing.price<5200]"
   ]
  },
  {
   "cell_type": "code",
   "execution_count": 58,
   "metadata": {},
   "outputs": [],
   "source": [
    "# Converting categories to numbers\n",
    "df_listing.loc[:,'host_is_superhost'] = df_listing.host_is_superhost.map({'t':1,'f':0})\n",
    "\n",
    "\n"
   ]
  },
  {
   "cell_type": "code",
   "execution_count": 59,
   "metadata": {},
   "outputs": [
    {
     "data": {
      "image/png": "[encoded data removed]",
      "text/plain": [
       "<Figure size 1152x360 with 2 Axes>"
      ]
     },
     "metadata": {
      "needs_background": "light"
     },
     "output_type": "display_data"
    }
   ],
   "source": [
    "fig,axs = plt.subplots(1,2,figsize=(16,5))\n",
    "axs[0].hist(df_listing.price,bins=20,color='k',alpha=0.7,edgecolor='w')\n",
    "axs[0].set_yscale('log');\n",
    "axs[0].set_xlabel('Daily price');\n",
    "axs[0].set_ylabel('Number of houses on Airbnb');\n",
    "axs[0].grid(b='None');\n",
    "axs[0].grid(None);\n",
    "axs[1].hist(df_listing.price[df_listing.price<2000],bins=20,color='r',alpha=0.7,edgecolor='k');\n",
    "axs[1].set_xlabel('Daily price');\n",
    "axs[1].set_ylabel('Number of houses on Airbnb');"
   ]
  },
  {
   "cell_type": "code",
   "execution_count": 60,
   "metadata": {},
   "outputs": [
    {
     "data": {
      "image/png": "[encoded data removed]",
      "text/plain": [
       "<Figure size 432x288 with 1 Axes>"
      ]
     },
     "metadata": {
      "needs_background": "light"
     },
     "output_type": "display_data"
    }
   ],
   "source": [
    "fig,ax = plt.subplots(figsize=(6,4))\n",
    "ax = df_listing.room_type.value_counts().plot(kind='bar',color='g',alpha=0.7,edgecolor='k');"
   ]
  },
  {
   "cell_type": "code",
   "execution_count": 61,
   "metadata": {},
   "outputs": [],
   "source": [
    "#df_listing.info()"
   ]
  },
  {
   "cell_type": "code",
   "execution_count": 62,
   "metadata": {},
   "outputs": [
    {
     "data": {
      "image/png": "[encoded data removed]",
      "text/plain": [
       "<Figure size 864x432 with 1 Axes>"
      ]
     },
     "metadata": {
      "needs_background": "light"
     },
     "output_type": "display_data"
    }
   ],
   "source": [
    "fig,ax = plt.subplots(figsize=(12,6));\n",
    "ax = df_listing.host_neighbourhood.value_counts()[:11].plot.bar(color='k');\n",
    "ax.set_ylabel('Number of Airbnb units');\n",
    "ax.set_xlabel('Top 20 Popular Location with highest Airbnb Units');"
   ]
  },
  {
   "cell_type": "code",
   "execution_count": 63,
   "metadata": {},
   "outputs": [],
   "source": [
    "dict_amenities = dict()\n",
    "for lst in df_listing.amenities:\n",
    "    for word in lst.replace('[','').replace('\"','').replace(']','').replace(' ','').split(','):\n",
    "        if word not in dict_amenities:\n",
    "            dict_amenities[word] = 1\n",
    "        else:\n",
    "            dict_amenities[word] += 1"
   ]
  },
  {
   "cell_type": "code",
   "execution_count": 64,
   "metadata": {},
   "outputs": [
    {
     "data": {
      "image/png": "[encoded data removed]",
      "text/plain": [
       "<Figure size 864x1152 with 1 Axes>"
      ]
     },
     "metadata": {
      "needs_background": "light"
     },
     "output_type": "display_data"
    }
   ],
   "source": [
    "filtered_dict = {k:v for k,v in dict_amenities.items() if v>1000}\n",
    "filtered_dict = {k:v for k,v in sorted(filtered_dict.items(),key=lambda item:item[1])}\n",
    "\n",
    "fig,ax = plt.subplots(figsize=(12,16))\n",
    "a= list(filtered_dict.keys())\n",
    "b= filtered_dict.values()\n",
    "# ax.bar(a,b)\n",
    "plt.barh(a,b,color='k',alpha=0.7);"
   ]
  },
  {
   "cell_type": "code",
   "execution_count": 65,
   "metadata": {},
   "outputs": [],
   "source": [
    "## Features to keep\n",
    "# bbqgrill, gym, pool,private_entrance\n",
    "\n",
    "# Most expensive house\n",
    "# https://www.airbnb.com/rooms/46081394/photos?guests=1&adults=1\n",
    "# https://www.airbnb.com/luxury/listing/36868497?source_impression_id=p3_1616965432_%2BtiLPpKVsNjbcXS8&guests=1&adults=1&check_in=2021-04-07&check_out=2021-04-10\n",
    "#https://www.airbnb.com/rooms/46081476/photos?source_impression_id=p3_1616965591_2THtdQLDDHYaRava"
   ]
  },
  {
   "cell_type": "code",
   "execution_count": 96,
   "metadata": {},
   "outputs": [
    {
     "data": {
      "text/plain": [
       "Text(0.5, 0, 'Host Locations')"
      ]
     },
     "execution_count": 96,
     "metadata": {},
     "output_type": "execute_result"
    },
    {
     "data": {
      "image/png": "[encoded data removed]",
      "text/plain": [
       "<Figure size 576x360 with 1 Axes>"
      ]
     },
     "metadata": {
      "needs_background": "light"
     },
     "output_type": "display_data"
    }
   ],
   "source": [
    "df_listing.host_location = df_listing.host_location.str.replace('US','United States')\n",
    "fig,ax = plt.subplots(figsize=(8,5))\n",
    "ax = df_listing.host_location.value_counts().head(6).plot(kind='barh',color='k')\n",
    "ax.set_xlabel('Host Locations')"
   ]
  },
  {
   "cell_type": "code",
   "execution_count": 67,
   "metadata": {},
   "outputs": [
    {
     "data": {
      "text/plain": [
       "Text(0, 0.5, 'Median Price per Night')"
      ]
     },
     "execution_count": 67,
     "metadata": {},
     "output_type": "execute_result"
    },
    {
     "data": {
      "image/png": "[encoded data removed]",
      "text/plain": [
       "<Figure size 432x288 with 1 Axes>"
      ]
     },
     "metadata": {
      "needs_background": "light"
     },
     "output_type": "display_data"
    }
   ],
   "source": [
    "fig,ax = plt.subplots(figsize=(6,4));\n",
    "df_listing.groupby('host_is_superhost').price.median().plot(kind='bar',color='y');\n",
    "ax.set_ylabel('Median Price per Night')"
   ]
  },
  {
   "cell_type": "code",
   "execution_count": 79,
   "metadata": {},
   "outputs": [],
   "source": [
    "df_listing.bedrooms = df_listing.bedrooms.fillna(0)"
   ]
  },
  {
   "cell_type": "code",
   "execution_count": 80,
   "metadata": {},
   "outputs": [
    {
     "name": "stdout",
     "output_type": "stream",
     "text": [
      "<class 'pandas.core.frame.DataFrame'>\n",
      "Int64Index: 10255 entries, 0 to 10271\n",
      "Data columns (total 35 columns):\n",
      " #   Column                       Non-Null Count  Dtype         \n",
      "---  ------                       --------------  -----         \n",
      " 0   id                           10255 non-null  int64         \n",
      " 1   listing_url                  10255 non-null  object        \n",
      " 2   description                  10052 non-null  object        \n",
      " 3   neighborhood_overview        6539 non-null   object        \n",
      " 4   host_id                      10255 non-null  int64         \n",
      " 5   host_since                   10250 non-null  datetime64[ns]\n",
      " 6   host_location                10230 non-null  object        \n",
      " 7   host_response_time           6059 non-null   object        \n",
      " 8   host_response_rate           6059 non-null   object        \n",
      " 9   host_acceptance_rate         6837 non-null   object        \n",
      " 10  host_is_superhost            10250 non-null  float64       \n",
      " 11  host_neighbourhood           8348 non-null   object        \n",
      " 12  host_listings_count          10250 non-null  float64       \n",
      " 13  host_total_listings_count    10250 non-null  float64       \n",
      " 14  host_verifications           10255 non-null  object        \n",
      " 15  host_identity_verified       10250 non-null  object        \n",
      " 16  zip_code                     10255 non-null  int64         \n",
      " 17  property_type                10255 non-null  object        \n",
      " 18  room_type                    10255 non-null  object        \n",
      " 19  accommodates                 10255 non-null  int64         \n",
      " 20  bathrooms_text               10239 non-null  object        \n",
      " 21  bedrooms                     10255 non-null  float64       \n",
      " 22  beds                         10192 non-null  float64       \n",
      " 23  amenities                    10255 non-null  object        \n",
      " 24  price                        10255 non-null  float64       \n",
      " 25  minimum_nights               10255 non-null  int64         \n",
      " 26  maximum_nights               10255 non-null  int64         \n",
      " 27  review_scores_rating         7556 non-null   float64       \n",
      " 28  review_scores_accuracy       7484 non-null   float64       \n",
      " 29  review_scores_cleanliness    7484 non-null   float64       \n",
      " 30  review_scores_checkin        7483 non-null   float64       \n",
      " 31  review_scores_communication  7483 non-null   float64       \n",
      " 32  review_scores_location       7478 non-null   float64       \n",
      " 33  review_scores_value          7478 non-null   float64       \n",
      " 34  Timeframe                    7665 non-null   float64       \n",
      "dtypes: datetime64[ns](1), float64(14), int64(6), object(14)\n",
      "memory usage: 2.8+ MB\n"
     ]
    }
   ],
   "source": [
    "df_listing.info()"
   ]
  },
  {
   "cell_type": "code",
   "execution_count": 98,
   "metadata": {},
   "outputs": [
    {
     "data": {
      "image/png": "[encoded data removed]",
      "text/plain": [
       "<Figure size 432x288 with 1 Axes>"
      ]
     },
     "metadata": {
      "needs_background": "light"
     },
     "output_type": "display_data"
    }
   ],
   "source": [
    "df_listing.host_response_time.value_counts().plot(kind='barh',color='b',alpha=0.8);"
   ]
  },
  {
   "cell_type": "code",
   "execution_count": 106,
   "metadata": {},
   "outputs": [],
   "source": [
    "columns_to_remove2 = ['host_response_time','host_response_rate','host_neighbourhood'] \n",
    "df_listing.drop(columns_to_remove2,axis=1,inplace=True)"
   ]
  },
  {
   "cell_type": "code",
   "execution_count": 107,
   "metadata": {},
   "outputs": [
    {
     "name": "stdout",
     "output_type": "stream",
     "text": [
      "<class 'pandas.core.frame.DataFrame'>\n",
      "Int64Index: 10255 entries, 0 to 10271\n",
      "Data columns (total 34 columns):\n",
      " #   Column                       Non-Null Count  Dtype         \n",
      "---  ------                       --------------  -----         \n",
      " 0   id                           10255 non-null  int64         \n",
      " 1   listing_url                  10255 non-null  object        \n",
      " 2   description                  10052 non-null  object        \n",
      " 3   neighborhood_overview        6539 non-null   object        \n",
      " 4   host_id                      10255 non-null  int64         \n",
      " 5   host_since                   10250 non-null  datetime64[ns]\n",
      " 6   host_location                10230 non-null  object        \n",
      " 7   host_acceptance_rate         6837 non-null   object        \n",
      " 8   host_is_superhost            10250 non-null  float64       \n",
      " 9   host_neighbourhood           8348 non-null   object        \n",
      " 10  host_listings_count          10250 non-null  float64       \n",
      " 11  host_total_listings_count    10250 non-null  float64       \n",
      " 12  host_verifications           10255 non-null  object        \n",
      " 13  host_identity_verified       10250 non-null  object        \n",
      " 14  zip_code                     10255 non-null  int64         \n",
      " 15  property_type                10255 non-null  object        \n",
      " 16  room_type                    10255 non-null  object        \n",
      " 17  accommodates                 10255 non-null  int64         \n",
      " 18  bathrooms_text               10239 non-null  object        \n",
      " 19  bedrooms                     10255 non-null  float64       \n",
      " 20  beds                         10192 non-null  float64       \n",
      " 21  amenities                    10255 non-null  object        \n",
      " 22  price                        10255 non-null  float64       \n",
      " 23  minimum_nights               10255 non-null  int64         \n",
      " 24  maximum_nights               10255 non-null  int64         \n",
      " 25  review_scores_rating         7556 non-null   float64       \n",
      " 26  review_scores_accuracy       7484 non-null   float64       \n",
      " 27  review_scores_cleanliness    7484 non-null   float64       \n",
      " 28  review_scores_checkin        7483 non-null   float64       \n",
      " 29  review_scores_communication  7483 non-null   float64       \n",
      " 30  review_scores_location       7478 non-null   float64       \n",
      " 31  review_scores_value          7478 non-null   float64       \n",
      " 32  Timeframe                    7665 non-null   float64       \n",
      " 33  pool                         10255 non-null  int64         \n",
      "dtypes: datetime64[ns](1), float64(14), int64(7), object(12)\n",
      "memory usage: 3.1+ MB\n"
     ]
    }
   ],
   "source": [
    "df_listing.info()"
   ]
  },
  {
   "cell_type": "code",
   "execution_count": null,
   "metadata": {},
   "outputs": [],
   "source": []
  },
  {
   "cell_type": "code",
   "execution_count": null,
   "metadata": {},
   "outputs": [],
   "source": []
  }
 ],
 "metadata": {
  "kernelspec": {
   "display_name": "Python 3",
   "language": "python",
   "name": "python3"
  },
  "language_info": {
   "codemirror_mode": {
    "name": "ipython",
    "version": 3
   },
   "file_extension": ".py",
   "mimetype": "text/x-python",
   "name": "python",
   "nbconvert_exporter": "python",
   "pygments_lexer": "ipython3",
   "version": "3.7.9"
  }
 },
 "nbformat": 4,
 "nbformat_minor": 4
}
