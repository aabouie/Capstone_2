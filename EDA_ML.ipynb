{
 "cells": [
  {
   "cell_type": "code",
   "execution_count": 157,
   "metadata": {},
   "outputs": [],
   "source": [
    "import pandas as pd\n",
    "import numpy as np\n",
    "import matplotlib.pyplot as plt\n",
    "import re\n",
    "\n",
    "\n",
    "from sklearn.metrics import r2_score\n",
    "from sklearn.model_selection import train_test_split\n",
    "from sklearn.ensemble import RandomForestRegressor,GradientBoostingRegressor\n",
    "from sklearn.linear_model import LinearRegression\n",
    "from sklearn.tree import DecisionTreeRegressor"
   ]
  },
  {
   "cell_type": "code",
   "execution_count": 159,
   "metadata": {},
   "outputs": [
    {
     "name": "stdout",
     "output_type": "stream",
     "text": [
      "Collecting xgboost\n",
      "  Downloading xgboost-1.3.3-py3-none-manylinux2010_x86_64.whl (157.5 MB)\n",
      "\u001b[K     |████████████████████████████████| 157.5 MB 66 kB/s  eta 0:00:01    |██▉                             | 14.0 MB 1.4 MB/s eta 0:01:45     |███████▎                        | 35.7 MB 2.0 MB/s eta 0:01:00     |██████████████▏                 | 69.5 MB 1.7 MB/s eta 0:00:53     |██████████████▌                 | 71.6 MB 911 kB/s eta 0:01:35     |███████████████▍                | 75.6 MB 2.7 MB/s eta 0:00:31     |████████████████▏               | 79.7 MB 1.6 MB/s eta 0:00:50     |████████████████▌               | 81.2 MB 2.3 MB/s eta 0:00:34     |████████████████▋               | 81.5 MB 2.3 MB/s eta 0:00:34     |██████████████████▏             | 89.4 MB 1.7 MB/s eta 0:00:39     |█████████████████████           | 103.1 MB 2.1 MB/s eta 0:00:27     |████████████████████████▍       | 120.0 MB 860 kB/s eta 0:00:44     |█████████████████████████▍      | 124.8 MB 1.7 MB/s eta 0:00:20     |██████████████████████████▌     | 130.4 MB 1.8 MB/s eta 0:00:15     |█████████████████████████████   | 142.3 MB 1.1 MB/s eta 0:00:14     |██████████████████████████████▍ | 149.7 MB 1.9 MB/s eta 0:00:05     |██████████████████████████████▋ | 150.5 MB 3.3 MB/s eta 0:00:03     |██████████████████████████████▋ | 150.9 MB 3.3 MB/s eta 0:00:02     |███████████████████████████████▋| 155.6 MB 2.1 MB/s eta 0:00:01\n",
      "\u001b[?25hRequirement already satisfied: scipy in /home/ali/anaconda3/lib/python3.7/site-packages (from xgboost) (1.5.2)\n",
      "Requirement already satisfied: numpy in /home/ali/anaconda3/lib/python3.7/site-packages (from xgboost) (1.19.2)\n",
      "Installing collected packages: xgboost\n",
      "Successfully installed xgboost-1.3.3\n",
      "Note: you may need to restart the kernel to use updated packages.\n"
     ]
    }
   ],
   "source": [
    "pip install xgboost"
   ]
  },
  {
   "cell_type": "code",
   "execution_count": 107,
   "metadata": {},
   "outputs": [],
   "source": [
    "pd.options.display.max_columns = None"
   ]
  },
  {
   "cell_type": "code",
   "execution_count": 108,
   "metadata": {},
   "outputs": [
    {
     "data": {
      "text/html": [
       "<div>\n",
       "<style scoped>\n",
       "    .dataframe tbody tr th:only-of-type {\n",
       "        vertical-align: middle;\n",
       "    }\n",
       "\n",
       "    .dataframe tbody tr th {\n",
       "        vertical-align: top;\n",
       "    }\n",
       "\n",
       "    .dataframe thead th {\n",
       "        text-align: right;\n",
       "    }\n",
       "</style>\n",
       "<table border=\"1\" class=\"dataframe\">\n",
       "  <thead>\n",
       "    <tr style=\"text-align: right;\">\n",
       "      <th></th>\n",
       "      <th>id</th>\n",
       "      <th>listing_url</th>\n",
       "      <th>scrape_id</th>\n",
       "      <th>last_scraped</th>\n",
       "      <th>name</th>\n",
       "      <th>description</th>\n",
       "      <th>neighborhood_overview</th>\n",
       "      <th>picture_url</th>\n",
       "      <th>host_id</th>\n",
       "      <th>host_url</th>\n",
       "      <th>host_name</th>\n",
       "      <th>host_since</th>\n",
       "      <th>host_location</th>\n",
       "      <th>host_about</th>\n",
       "      <th>host_response_time</th>\n",
       "      <th>host_response_rate</th>\n",
       "      <th>host_acceptance_rate</th>\n",
       "      <th>host_is_superhost</th>\n",
       "      <th>host_thumbnail_url</th>\n",
       "      <th>host_picture_url</th>\n",
       "      <th>host_neighbourhood</th>\n",
       "      <th>host_listings_count</th>\n",
       "      <th>host_total_listings_count</th>\n",
       "      <th>host_verifications</th>\n",
       "      <th>host_has_profile_pic</th>\n",
       "      <th>host_identity_verified</th>\n",
       "      <th>neighbourhood</th>\n",
       "      <th>neighbourhood_cleansed</th>\n",
       "      <th>neighbourhood_group_cleansed</th>\n",
       "      <th>latitude</th>\n",
       "      <th>longitude</th>\n",
       "      <th>property_type</th>\n",
       "      <th>room_type</th>\n",
       "      <th>accommodates</th>\n",
       "      <th>bathrooms</th>\n",
       "      <th>bathrooms_text</th>\n",
       "      <th>bedrooms</th>\n",
       "      <th>beds</th>\n",
       "      <th>amenities</th>\n",
       "      <th>price</th>\n",
       "      <th>minimum_nights</th>\n",
       "      <th>maximum_nights</th>\n",
       "      <th>minimum_minimum_nights</th>\n",
       "      <th>maximum_minimum_nights</th>\n",
       "      <th>minimum_maximum_nights</th>\n",
       "      <th>maximum_maximum_nights</th>\n",
       "      <th>minimum_nights_avg_ntm</th>\n",
       "      <th>maximum_nights_avg_ntm</th>\n",
       "      <th>calendar_updated</th>\n",
       "      <th>has_availability</th>\n",
       "      <th>availability_30</th>\n",
       "      <th>availability_60</th>\n",
       "      <th>availability_90</th>\n",
       "      <th>availability_365</th>\n",
       "      <th>calendar_last_scraped</th>\n",
       "      <th>number_of_reviews</th>\n",
       "      <th>number_of_reviews_ltm</th>\n",
       "      <th>number_of_reviews_l30d</th>\n",
       "      <th>first_review</th>\n",
       "      <th>last_review</th>\n",
       "      <th>review_scores_rating</th>\n",
       "      <th>review_scores_accuracy</th>\n",
       "      <th>review_scores_cleanliness</th>\n",
       "      <th>review_scores_checkin</th>\n",
       "      <th>review_scores_communication</th>\n",
       "      <th>review_scores_location</th>\n",
       "      <th>review_scores_value</th>\n",
       "      <th>license</th>\n",
       "      <th>instant_bookable</th>\n",
       "      <th>calculated_host_listings_count</th>\n",
       "      <th>calculated_host_listings_count_entire_homes</th>\n",
       "      <th>calculated_host_listings_count_private_rooms</th>\n",
       "      <th>calculated_host_listings_count_shared_rooms</th>\n",
       "      <th>reviews_per_month</th>\n",
       "    </tr>\n",
       "  </thead>\n",
       "  <tbody>\n",
       "    <tr>\n",
       "      <th>0</th>\n",
       "      <td>2265</td>\n",
       "      <td>https://www.airbnb.com/rooms/2265</td>\n",
       "      <td>20210210181232</td>\n",
       "      <td>2021-02-12</td>\n",
       "      <td>Zen-East in the Heart of Austin (monthly rental)</td>\n",
       "      <td>Zen East is situated in a vibrant &amp; diverse mu...</td>\n",
       "      <td>NaN</td>\n",
       "      <td>https://a0.muscache.com/pictures/4740524/63f82...</td>\n",
       "      <td>2466</td>\n",
       "      <td>https://www.airbnb.com/users/show/2466</td>\n",
       "      <td>Paddy</td>\n",
       "      <td>2008-08-23</td>\n",
       "      <td>Austin, Texas, United States</td>\n",
       "      <td>I am a long time resident of Austin. I earned ...</td>\n",
       "      <td>within a few hours</td>\n",
       "      <td>100%</td>\n",
       "      <td>90%</td>\n",
       "      <td>f</td>\n",
       "      <td>https://a0.muscache.com/im/users/2466/profile_...</td>\n",
       "      <td>https://a0.muscache.com/im/users/2466/profile_...</td>\n",
       "      <td>East Downtown</td>\n",
       "      <td>3.0</td>\n",
       "      <td>3.0</td>\n",
       "      <td>['email', 'phone', 'facebook', 'reviews', 'kba']</td>\n",
       "      <td>t</td>\n",
       "      <td>t</td>\n",
       "      <td>NaN</td>\n",
       "      <td>78702</td>\n",
       "      <td>NaN</td>\n",
       "      <td>30.27750</td>\n",
       "      <td>-97.71398</td>\n",
       "      <td>Entire house</td>\n",
       "      <td>Entire home/apt</td>\n",
       "      <td>4</td>\n",
       "      <td>NaN</td>\n",
       "      <td>2 baths</td>\n",
       "      <td>2.0</td>\n",
       "      <td>2.0</td>\n",
       "      <td>[\"Free parking on premises\", \"Hair dryer\", \"Pa...</td>\n",
       "      <td>$200.00</td>\n",
       "      <td>7</td>\n",
       "      <td>180</td>\n",
       "      <td>7.0</td>\n",
       "      <td>7.0</td>\n",
       "      <td>180.0</td>\n",
       "      <td>180.0</td>\n",
       "      <td>7.0</td>\n",
       "      <td>180.0</td>\n",
       "      <td>NaN</td>\n",
       "      <td>t</td>\n",
       "      <td>13</td>\n",
       "      <td>13</td>\n",
       "      <td>42</td>\n",
       "      <td>131</td>\n",
       "      <td>2021-02-12</td>\n",
       "      <td>24</td>\n",
       "      <td>0</td>\n",
       "      <td>0</td>\n",
       "      <td>2009-03-17</td>\n",
       "      <td>2019-03-16</td>\n",
       "      <td>93.0</td>\n",
       "      <td>9.0</td>\n",
       "      <td>10.0</td>\n",
       "      <td>10.0</td>\n",
       "      <td>10.0</td>\n",
       "      <td>8.0</td>\n",
       "      <td>9.0</td>\n",
       "      <td>NaN</td>\n",
       "      <td>f</td>\n",
       "      <td>3</td>\n",
       "      <td>2</td>\n",
       "      <td>1</td>\n",
       "      <td>0</td>\n",
       "      <td>0.17</td>\n",
       "    </tr>\n",
       "    <tr>\n",
       "      <th>1</th>\n",
       "      <td>5245</td>\n",
       "      <td>https://www.airbnb.com/rooms/5245</td>\n",
       "      <td>20210210181232</td>\n",
       "      <td>2021-02-12</td>\n",
       "      <td>Eco friendly, Colorful, Clean, Cozy monthly share</td>\n",
       "      <td>Situated in a vibrant &amp; diverse multicultural ...</td>\n",
       "      <td>NaN</td>\n",
       "      <td>https://a0.muscache.com/pictures/5167505/b33b5...</td>\n",
       "      <td>2466</td>\n",
       "      <td>https://www.airbnb.com/users/show/2466</td>\n",
       "      <td>Paddy</td>\n",
       "      <td>2008-08-23</td>\n",
       "      <td>Austin, Texas, United States</td>\n",
       "      <td>I am a long time resident of Austin. I earned ...</td>\n",
       "      <td>within a few hours</td>\n",
       "      <td>100%</td>\n",
       "      <td>90%</td>\n",
       "      <td>f</td>\n",
       "      <td>https://a0.muscache.com/im/users/2466/profile_...</td>\n",
       "      <td>https://a0.muscache.com/im/users/2466/profile_...</td>\n",
       "      <td>East Downtown</td>\n",
       "      <td>3.0</td>\n",
       "      <td>3.0</td>\n",
       "      <td>['email', 'phone', 'facebook', 'reviews', 'kba']</td>\n",
       "      <td>t</td>\n",
       "      <td>t</td>\n",
       "      <td>NaN</td>\n",
       "      <td>78702</td>\n",
       "      <td>NaN</td>\n",
       "      <td>30.27577</td>\n",
       "      <td>-97.71379</td>\n",
       "      <td>Private room in house</td>\n",
       "      <td>Private room</td>\n",
       "      <td>2</td>\n",
       "      <td>NaN</td>\n",
       "      <td>1 private bath</td>\n",
       "      <td>1.0</td>\n",
       "      <td>2.0</td>\n",
       "      <td>[\"Free parking on premises\", \"Hair dryer\", \"Br...</td>\n",
       "      <td>$114.00</td>\n",
       "      <td>30</td>\n",
       "      <td>60</td>\n",
       "      <td>30.0</td>\n",
       "      <td>30.0</td>\n",
       "      <td>60.0</td>\n",
       "      <td>60.0</td>\n",
       "      <td>30.0</td>\n",
       "      <td>60.0</td>\n",
       "      <td>NaN</td>\n",
       "      <td>t</td>\n",
       "      <td>0</td>\n",
       "      <td>0</td>\n",
       "      <td>0</td>\n",
       "      <td>0</td>\n",
       "      <td>2021-02-12</td>\n",
       "      <td>9</td>\n",
       "      <td>0</td>\n",
       "      <td>0</td>\n",
       "      <td>2009-03-19</td>\n",
       "      <td>2018-03-14</td>\n",
       "      <td>91.0</td>\n",
       "      <td>10.0</td>\n",
       "      <td>8.0</td>\n",
       "      <td>10.0</td>\n",
       "      <td>9.0</td>\n",
       "      <td>10.0</td>\n",
       "      <td>9.0</td>\n",
       "      <td>NaN</td>\n",
       "      <td>f</td>\n",
       "      <td>3</td>\n",
       "      <td>2</td>\n",
       "      <td>1</td>\n",
       "      <td>0</td>\n",
       "      <td>0.06</td>\n",
       "    </tr>\n",
       "  </tbody>\n",
       "</table>\n",
       "</div>"
      ],
      "text/plain": [
       "     id                        listing_url       scrape_id last_scraped  \\\n",
       "0  2265  https://www.airbnb.com/rooms/2265  20210210181232   2021-02-12   \n",
       "1  5245  https://www.airbnb.com/rooms/5245  20210210181232   2021-02-12   \n",
       "\n",
       "                                                name  \\\n",
       "0   Zen-East in the Heart of Austin (monthly rental)   \n",
       "1  Eco friendly, Colorful, Clean, Cozy monthly share   \n",
       "\n",
       "                                         description neighborhood_overview  \\\n",
       "0  Zen East is situated in a vibrant & diverse mu...                   NaN   \n",
       "1  Situated in a vibrant & diverse multicultural ...                   NaN   \n",
       "\n",
       "                                         picture_url  host_id  \\\n",
       "0  https://a0.muscache.com/pictures/4740524/63f82...     2466   \n",
       "1  https://a0.muscache.com/pictures/5167505/b33b5...     2466   \n",
       "\n",
       "                                 host_url host_name  host_since  \\\n",
       "0  https://www.airbnb.com/users/show/2466     Paddy  2008-08-23   \n",
       "1  https://www.airbnb.com/users/show/2466     Paddy  2008-08-23   \n",
       "\n",
       "                  host_location  \\\n",
       "0  Austin, Texas, United States   \n",
       "1  Austin, Texas, United States   \n",
       "\n",
       "                                          host_about  host_response_time  \\\n",
       "0  I am a long time resident of Austin. I earned ...  within a few hours   \n",
       "1  I am a long time resident of Austin. I earned ...  within a few hours   \n",
       "\n",
       "  host_response_rate host_acceptance_rate host_is_superhost  \\\n",
       "0               100%                  90%                 f   \n",
       "1               100%                  90%                 f   \n",
       "\n",
       "                                  host_thumbnail_url  \\\n",
       "0  https://a0.muscache.com/im/users/2466/profile_...   \n",
       "1  https://a0.muscache.com/im/users/2466/profile_...   \n",
       "\n",
       "                                    host_picture_url host_neighbourhood  \\\n",
       "0  https://a0.muscache.com/im/users/2466/profile_...      East Downtown   \n",
       "1  https://a0.muscache.com/im/users/2466/profile_...      East Downtown   \n",
       "\n",
       "   host_listings_count  host_total_listings_count  \\\n",
       "0                  3.0                        3.0   \n",
       "1                  3.0                        3.0   \n",
       "\n",
       "                                 host_verifications host_has_profile_pic  \\\n",
       "0  ['email', 'phone', 'facebook', 'reviews', 'kba']                    t   \n",
       "1  ['email', 'phone', 'facebook', 'reviews', 'kba']                    t   \n",
       "\n",
       "  host_identity_verified neighbourhood  neighbourhood_cleansed  \\\n",
       "0                      t           NaN                   78702   \n",
       "1                      t           NaN                   78702   \n",
       "\n",
       "   neighbourhood_group_cleansed  latitude  longitude          property_type  \\\n",
       "0                           NaN  30.27750  -97.71398           Entire house   \n",
       "1                           NaN  30.27577  -97.71379  Private room in house   \n",
       "\n",
       "         room_type  accommodates  bathrooms  bathrooms_text  bedrooms  beds  \\\n",
       "0  Entire home/apt             4        NaN         2 baths       2.0   2.0   \n",
       "1     Private room             2        NaN  1 private bath       1.0   2.0   \n",
       "\n",
       "                                           amenities    price  minimum_nights  \\\n",
       "0  [\"Free parking on premises\", \"Hair dryer\", \"Pa...  $200.00               7   \n",
       "1  [\"Free parking on premises\", \"Hair dryer\", \"Br...  $114.00              30   \n",
       "\n",
       "   maximum_nights  minimum_minimum_nights  maximum_minimum_nights  \\\n",
       "0             180                     7.0                     7.0   \n",
       "1              60                    30.0                    30.0   \n",
       "\n",
       "   minimum_maximum_nights  maximum_maximum_nights  minimum_nights_avg_ntm  \\\n",
       "0                   180.0                   180.0                     7.0   \n",
       "1                    60.0                    60.0                    30.0   \n",
       "\n",
       "   maximum_nights_avg_ntm  calendar_updated has_availability  availability_30  \\\n",
       "0                   180.0               NaN                t               13   \n",
       "1                    60.0               NaN                t                0   \n",
       "\n",
       "   availability_60  availability_90  availability_365 calendar_last_scraped  \\\n",
       "0               13               42               131            2021-02-12   \n",
       "1                0                0                 0            2021-02-12   \n",
       "\n",
       "   number_of_reviews  number_of_reviews_ltm  number_of_reviews_l30d  \\\n",
       "0                 24                      0                       0   \n",
       "1                  9                      0                       0   \n",
       "\n",
       "  first_review last_review  review_scores_rating  review_scores_accuracy  \\\n",
       "0   2009-03-17  2019-03-16                  93.0                     9.0   \n",
       "1   2009-03-19  2018-03-14                  91.0                    10.0   \n",
       "\n",
       "   review_scores_cleanliness  review_scores_checkin  \\\n",
       "0                       10.0                   10.0   \n",
       "1                        8.0                   10.0   \n",
       "\n",
       "   review_scores_communication  review_scores_location  review_scores_value  \\\n",
       "0                         10.0                     8.0                  9.0   \n",
       "1                          9.0                    10.0                  9.0   \n",
       "\n",
       "   license instant_bookable  calculated_host_listings_count  \\\n",
       "0      NaN                f                               3   \n",
       "1      NaN                f                               3   \n",
       "\n",
       "   calculated_host_listings_count_entire_homes  \\\n",
       "0                                            2   \n",
       "1                                            2   \n",
       "\n",
       "   calculated_host_listings_count_private_rooms  \\\n",
       "0                                             1   \n",
       "1                                             1   \n",
       "\n",
       "   calculated_host_listings_count_shared_rooms  reviews_per_month  \n",
       "0                                            0               0.17  \n",
       "1                                            0               0.06  "
      ]
     },
     "execution_count": 108,
     "metadata": {},
     "output_type": "execute_result"
    }
   ],
   "source": [
    "df_listing = pd.read_csv('Data/listings_details.csv')\n",
    "df_reviews = pd.read_csv('Data/reviews_Details.csv')\n",
    "df_scrape = pd.read_csv('Data/Airbnb_Description.csv')\n",
    "df_listing.head(2)"
   ]
  },
  {
   "cell_type": "code",
   "execution_count": 109,
   "metadata": {},
   "outputs": [
    {
     "data": {
      "text/plain": [
       "(10272, 74)"
      ]
     },
     "execution_count": 109,
     "metadata": {},
     "output_type": "execute_result"
    }
   ],
   "source": [
    "df_listing.shape"
   ]
  },
  {
   "cell_type": "markdown",
   "metadata": {},
   "source": [
    "## Performing EDA Analysis"
   ]
  },
  {
   "cell_type": "code",
   "execution_count": 110,
   "metadata": {},
   "outputs": [],
   "source": [
    "# Removing unnecessary columns\n",
    "columns_to_remove = ['scrape_id','last_scraped','neighbourhood_group_cleansed','calendar_updated','license','bathrooms',\n",
    "                     'picture_url','host_has_profile_pic','host_name','host_url','host_thumbnail_url','name',\n",
    "                     'minimum_minimum_nights','maximum_minimum_nights','minimum_maximum_nights','maximum_maximum_nights',\n",
    "                     'minimum_nights_avg_ntm','maximum_nights_avg_ntm','has_availability','host_picture_url',\n",
    "                     'number_of_reviews_l30d','number_of_reviews_ltm','calendar_last_scraped',\n",
    "                     'calculated_host_listings_count','calculated_host_listings_count_entire_homes','calculated_host_listings_count_private_rooms',\n",
    "                     'calculated_host_listings_count_private_rooms','calculated_host_listings_count_shared_rooms','reviews_per_month',\n",
    "                     'availability_30','availability_60','availability_90','availability_365','number_of_reviews',\n",
    "                     'neighbourhood','instant_bookable','host_about',\n",
    "                     'latitude','longitude'] \n",
    "df_listing.drop(columns_to_remove,axis=1,inplace=True)"
   ]
  },
  {
   "cell_type": "code",
   "execution_count": 111,
   "metadata": {},
   "outputs": [
    {
     "name": "stdout",
     "output_type": "stream",
     "text": [
      "<class 'pandas.core.frame.DataFrame'>\n",
      "RangeIndex: 10272 entries, 0 to 10271\n",
      "Data columns (total 36 columns):\n",
      " #   Column                       Non-Null Count  Dtype  \n",
      "---  ------                       --------------  -----  \n",
      " 0   id                           10272 non-null  int64  \n",
      " 1   listing_url                  10272 non-null  object \n",
      " 2   description                  10064 non-null  object \n",
      " 3   neighborhood_overview        6545 non-null   object \n",
      " 4   host_id                      10272 non-null  int64  \n",
      " 5   host_since                   10267 non-null  object \n",
      " 6   host_location                10247 non-null  object \n",
      " 7   host_response_time           6073 non-null   object \n",
      " 8   host_response_rate           6073 non-null   object \n",
      " 9   host_acceptance_rate         6850 non-null   object \n",
      " 10  host_is_superhost            10267 non-null  object \n",
      " 11  host_neighbourhood           8363 non-null   object \n",
      " 12  host_listings_count          10267 non-null  float64\n",
      " 13  host_total_listings_count    10267 non-null  float64\n",
      " 14  host_verifications           10272 non-null  object \n",
      " 15  host_identity_verified       10267 non-null  object \n",
      " 16  neighbourhood_cleansed       10272 non-null  int64  \n",
      " 17  property_type                10272 non-null  object \n",
      " 18  room_type                    10272 non-null  object \n",
      " 19  accommodates                 10272 non-null  int64  \n",
      " 20  bathrooms_text               10256 non-null  object \n",
      " 21  bedrooms                     9577 non-null   float64\n",
      " 22  beds                         10209 non-null  float64\n",
      " 23  amenities                    10272 non-null  object \n",
      " 24  price                        10272 non-null  object \n",
      " 25  minimum_nights               10272 non-null  int64  \n",
      " 26  maximum_nights               10272 non-null  int64  \n",
      " 27  first_review                 7672 non-null   object \n",
      " 28  last_review                  7672 non-null   object \n",
      " 29  review_scores_rating         7562 non-null   float64\n",
      " 30  review_scores_accuracy       7489 non-null   float64\n",
      " 31  review_scores_cleanliness    7489 non-null   float64\n",
      " 32  review_scores_checkin        7488 non-null   float64\n",
      " 33  review_scores_communication  7488 non-null   float64\n",
      " 34  review_scores_location       7483 non-null   float64\n",
      " 35  review_scores_value          7483 non-null   float64\n",
      "dtypes: float64(11), int64(6), object(19)\n",
      "memory usage: 2.8+ MB\n"
     ]
    }
   ],
   "source": [
    "df_listing.info()"
   ]
  },
  {
   "cell_type": "markdown",
   "metadata": {},
   "source": [
    "### Renaming Columns"
   ]
  },
  {
   "cell_type": "code",
   "execution_count": 112,
   "metadata": {},
   "outputs": [],
   "source": [
    "df_listing = df_listing.rename(columns={'neighbourhood_cleansed': 'zip_code'})"
   ]
  },
  {
   "cell_type": "markdown",
   "metadata": {},
   "source": [
    "### Converting the columns data format"
   ]
  },
  {
   "cell_type": "code",
   "execution_count": 113,
   "metadata": {},
   "outputs": [],
   "source": [
    "df_listing.first_review = pd.to_datetime(df_listing.first_review)\n",
    "df_listing.last_review = pd.to_datetime(df_listing.last_review)\n",
    "df_listing.host_since = pd.to_datetime(df_listing.host_since)\n",
    "\n",
    "df_listing[\"Timeframe\"] = (df_listing.last_review - df_listing.first_review).dt.days\n",
    "df_listing.drop(['first_review','last_review'],axis=1,inplace=True)"
   ]
  },
  {
   "cell_type": "code",
   "execution_count": 114,
   "metadata": {},
   "outputs": [],
   "source": [
    "# Filtering the prices and remove the highest ones due to SXSW festival\n",
    "df_listing.price = df_listing.price.replace('[\\$,]','',regex=True).astype(float)\n",
    "df_listing = df_listing[df_listing.price<5200]"
   ]
  },
  {
   "cell_type": "code",
   "execution_count": 115,
   "metadata": {},
   "outputs": [],
   "source": [
    "# Converting categories to numbers\n",
    "df_listing.loc[:,'host_is_superhost'] = df_listing.host_is_superhost.map({'t':1,'f':0})\n",
    "\n",
    "\n"
   ]
  },
  {
   "cell_type": "code",
   "execution_count": 116,
   "metadata": {},
   "outputs": [
    {
     "data": {
      "image/png": "[encoded data removed]",
      "text/plain": [
       "<Figure size 1152x360 with 2 Axes>"
      ]
     },
     "metadata": {
      "needs_background": "light"
     },
     "output_type": "display_data"
    }
   ],
   "source": [
    "fig,axs = plt.subplots(1,2,figsize=(16,5))\n",
    "axs[0].hist(df_listing.price,bins=20,color='k',alpha=0.7,edgecolor='w')\n",
    "axs[0].set_yscale('log');\n",
    "axs[0].set_xlabel('Daily price');\n",
    "axs[0].set_ylabel('Number of houses on Airbnb');\n",
    "axs[0].grid(b='None');\n",
    "axs[0].grid(None);\n",
    "axs[1].hist(df_listing.price[df_listing.price<2000],bins=20,color='r',alpha=0.7,edgecolor='k');\n",
    "axs[1].set_xlabel('Daily price');\n",
    "axs[1].set_ylabel('Number of houses on Airbnb');"
   ]
  },
  {
   "cell_type": "code",
   "execution_count": 117,
   "metadata": {},
   "outputs": [
    {
     "data": {
      "image/png": "[encoded data removed]",
      "text/plain": [
       "<Figure size 504x360 with 1 Axes>"
      ]
     },
     "metadata": {
      "needs_background": "light"
     },
     "output_type": "display_data"
    }
   ],
   "source": [
    "fig,axs = plt.subplots(figsize=(7,5))\n",
    "df_listing.room_type.value_counts().plot(kind='barh',color='g',alpha=0.7,edgecolor='k');"
   ]
  },
  {
   "cell_type": "code",
   "execution_count": 118,
   "metadata": {},
   "outputs": [
    {
     "data": {
      "image/png": "[encoded data removed]",
      "text/plain": [
       "<Figure size 504x360 with 1 Axes>"
      ]
     },
     "metadata": {
      "needs_background": "light"
     },
     "output_type": "display_data"
    }
   ],
   "source": [
    "fig,ax = plt.subplots(figsize=(7,5))\n",
    "df_listing.property_type.value_counts()[:10].plot(kind='barh',color='g',alpha=0.7,edgecolor='k');"
   ]
  },
  {
   "cell_type": "code",
   "execution_count": 119,
   "metadata": {},
   "outputs": [],
   "source": [
    "#df_listing.info()"
   ]
  },
  {
   "cell_type": "code",
   "execution_count": 120,
   "metadata": {},
   "outputs": [
    {
     "data": {
      "image/png": "[encoded data removed]",
      "text/plain": [
       "<Figure size 864x432 with 1 Axes>"
      ]
     },
     "metadata": {
      "needs_background": "light"
     },
     "output_type": "display_data"
    }
   ],
   "source": [
    "fig,ax = plt.subplots(figsize=(12,6));\n",
    "ax = df_listing.host_neighbourhood.value_counts()[:11].plot.bar(color='k');\n",
    "ax.set_ylabel('Number of Airbnb units');\n",
    "ax.set_xlabel('Top 20 Popular Location with highest Airbnb Units');"
   ]
  },
  {
   "cell_type": "code",
   "execution_count": 121,
   "metadata": {},
   "outputs": [],
   "source": [
    "dict_amenities = dict()\n",
    "for lst in df_listing.amenities:\n",
    "    for word in lst.replace('[','').replace('\"','').replace(']','').replace(' ','').split(','):\n",
    "        if word not in dict_amenities:\n",
    "            dict_amenities[word] = 1\n",
    "        else:\n",
    "            dict_amenities[word] += 1"
   ]
  },
  {
   "cell_type": "code",
   "execution_count": 122,
   "metadata": {},
   "outputs": [
    {
     "data": {
      "image/png": "[encoded data removed]",
      "text/plain": [
       "<Figure size 864x1152 with 1 Axes>"
      ]
     },
     "metadata": {
      "needs_background": "light"
     },
     "output_type": "display_data"
    }
   ],
   "source": [
    "filtered_dict = {k:v for k,v in dict_amenities.items() if v>1000}\n",
    "filtered_dict = {k:v for k,v in sorted(filtered_dict.items(),key=lambda item:item[1])}\n",
    "\n",
    "fig,ax = plt.subplots(figsize=(12,16))\n",
    "a= list(filtered_dict.keys())\n",
    "b= filtered_dict.values()\n",
    "# ax.bar(a,b)\n",
    "plt.barh(a,b,color='k',alpha=0.7);"
   ]
  },
  {
   "cell_type": "code",
   "execution_count": 123,
   "metadata": {},
   "outputs": [],
   "source": [
    "## Features to keep\n",
    "# bbqgrill, gym, pool,private_entrance\n",
    "\n",
    "# Most expensive house\n",
    "# https://www.airbnb.com/rooms/46081394/photos?guests=1&adults=1\n",
    "# https://www.airbnb.com/luxury/listing/36868497?source_impression_id=p3_1616965432_%2BtiLPpKVsNjbcXS8&guests=1&adults=1&check_in=2021-04-07&check_out=2021-04-10\n",
    "#https://www.airbnb.com/rooms/46081476/photos?source_impression_id=p3_1616965591_2THtdQLDDHYaRava"
   ]
  },
  {
   "cell_type": "code",
   "execution_count": 124,
   "metadata": {},
   "outputs": [
    {
     "data": {
      "text/plain": [
       "Text(0.5, 0, 'Host Locations')"
      ]
     },
     "execution_count": 124,
     "metadata": {},
     "output_type": "execute_result"
    },
    {
     "data": {
      "image/png": "[encoded data removed]",
      "text/plain": [
       "<Figure size 504x360 with 1 Axes>"
      ]
     },
     "metadata": {
      "needs_background": "light"
     },
     "output_type": "display_data"
    }
   ],
   "source": [
    "df_listing.host_location = df_listing.host_location.str.replace('US','United States')\n",
    "fig,ax = plt.subplots(figsize=(7,5))\n",
    "ax = df_listing.host_location.value_counts().head(6).plot(kind='barh',color='k')\n",
    "ax.set_xlabel('Host Locations')"
   ]
  },
  {
   "cell_type": "code",
   "execution_count": 125,
   "metadata": {},
   "outputs": [
    {
     "data": {
      "text/plain": [
       "Text(0, 0.5, 'Median Price per Night')"
      ]
     },
     "execution_count": 125,
     "metadata": {},
     "output_type": "execute_result"
    },
    {
     "data": {
      "image/png": "[encoded data removed]",
      "text/plain": [
       "<Figure size 504x360 with 1 Axes>"
      ]
     },
     "metadata": {
      "needs_background": "light"
     },
     "output_type": "display_data"
    }
   ],
   "source": [
    "fig,ax = plt.subplots(figsize=(7,5));\n",
    "df_listing.groupby('host_is_superhost').price.median().plot(kind='bar',color='y');\n",
    "ax.set_ylabel('Median Price per Night')"
   ]
  },
  {
   "cell_type": "code",
   "execution_count": 126,
   "metadata": {},
   "outputs": [],
   "source": [
    "df_listing.bedrooms = df_listing.bedrooms.fillna(0)"
   ]
  },
  {
   "cell_type": "code",
   "execution_count": 127,
   "metadata": {},
   "outputs": [
    {
     "name": "stdout",
     "output_type": "stream",
     "text": [
      "<class 'pandas.core.frame.DataFrame'>\n",
      "Int64Index: 10255 entries, 0 to 10271\n",
      "Data columns (total 35 columns):\n",
      " #   Column                       Non-Null Count  Dtype         \n",
      "---  ------                       --------------  -----         \n",
      " 0   id                           10255 non-null  int64         \n",
      " 1   listing_url                  10255 non-null  object        \n",
      " 2   description                  10052 non-null  object        \n",
      " 3   neighborhood_overview        6539 non-null   object        \n",
      " 4   host_id                      10255 non-null  int64         \n",
      " 5   host_since                   10250 non-null  datetime64[ns]\n",
      " 6   host_location                10230 non-null  object        \n",
      " 7   host_response_time           6059 non-null   object        \n",
      " 8   host_response_rate           6059 non-null   object        \n",
      " 9   host_acceptance_rate         6837 non-null   object        \n",
      " 10  host_is_superhost            10250 non-null  float64       \n",
      " 11  host_neighbourhood           8348 non-null   object        \n",
      " 12  host_listings_count          10250 non-null  float64       \n",
      " 13  host_total_listings_count    10250 non-null  float64       \n",
      " 14  host_verifications           10255 non-null  object        \n",
      " 15  host_identity_verified       10250 non-null  object        \n",
      " 16  zip_code                     10255 non-null  int64         \n",
      " 17  property_type                10255 non-null  object        \n",
      " 18  room_type                    10255 non-null  object        \n",
      " 19  accommodates                 10255 non-null  int64         \n",
      " 20  bathrooms_text               10239 non-null  object        \n",
      " 21  bedrooms                     10255 non-null  float64       \n",
      " 22  beds                         10192 non-null  float64       \n",
      " 23  amenities                    10255 non-null  object        \n",
      " 24  price                        10255 non-null  float64       \n",
      " 25  minimum_nights               10255 non-null  int64         \n",
      " 26  maximum_nights               10255 non-null  int64         \n",
      " 27  review_scores_rating         7556 non-null   float64       \n",
      " 28  review_scores_accuracy       7484 non-null   float64       \n",
      " 29  review_scores_cleanliness    7484 non-null   float64       \n",
      " 30  review_scores_checkin        7483 non-null   float64       \n",
      " 31  review_scores_communication  7483 non-null   float64       \n",
      " 32  review_scores_location       7478 non-null   float64       \n",
      " 33  review_scores_value          7478 non-null   float64       \n",
      " 34  Timeframe                    7665 non-null   float64       \n",
      "dtypes: datetime64[ns](1), float64(14), int64(6), object(14)\n",
      "memory usage: 2.8+ MB\n"
     ]
    }
   ],
   "source": [
    "df_listing.info()"
   ]
  },
  {
   "cell_type": "code",
   "execution_count": 128,
   "metadata": {},
   "outputs": [
    {
     "data": {
      "image/png": "[encoded data removed]",
      "text/plain": [
       "<Figure size 432x288 with 1 Axes>"
      ]
     },
     "metadata": {
      "needs_background": "light"
     },
     "output_type": "display_data"
    }
   ],
   "source": [
    "df_listing.host_response_time.value_counts().plot(kind='barh',color='b',alpha=0.8);"
   ]
  },
  {
   "cell_type": "code",
   "execution_count": 129,
   "metadata": {},
   "outputs": [],
   "source": [
    "columns_to_remove2 = ['host_response_time','host_response_rate','host_neighbourhood'] \n",
    "df_listing.drop(columns_to_remove2,axis=1,inplace=True)"
   ]
  },
  {
   "cell_type": "code",
   "execution_count": 130,
   "metadata": {},
   "outputs": [
    {
     "data": {
      "image/png": "[encoded data removed]",
      "text/plain": [
       "<Figure size 504x360 with 1 Axes>"
      ]
     },
     "metadata": {
      "needs_background": "light"
     },
     "output_type": "display_data"
    }
   ],
   "source": [
    "fig,ax = plt.subplots(figsize=(7,5))\n",
    "df_listing.host_since.hist(bins=20,color='k',alpha=0.8,edgecolor='w')\n",
    "ax.grid(None);\n",
    "ax.set_xlabel('Date host Joined Airbnb');\n",
    "ax.set_ylabel('Number of hosts');"
   ]
  },
  {
   "cell_type": "code",
   "execution_count": 131,
   "metadata": {},
   "outputs": [
    {
     "data": {
      "image/png": "[encoded data removed]",
      "text/plain": [
       "<Figure size 504x360 with 1 Axes>"
      ]
     },
     "metadata": {
      "needs_background": "light"
     },
     "output_type": "display_data"
    }
   ],
   "source": [
    "fig,ax = plt.subplots(figsize=(7,5))\n",
    "ax = df_listing.groupby('accommodates').price.median().plot(kind='bar',color='k',alpha=0.8,edgecolor='w');\n",
    "ax.set_xlabel('Number of Guests Accomodated');\n",
    "ax.set_ylabel('Median Price $');"
   ]
  },
  {
   "cell_type": "code",
   "execution_count": 132,
   "metadata": {},
   "outputs": [],
   "source": [
    "dummies_room_type = pd.get_dummies(df_listing.room_type,prefix='room_type_',drop_first=True)"
   ]
  },
  {
   "cell_type": "code",
   "execution_count": 133,
   "metadata": {},
   "outputs": [],
   "source": [
    "df_listing = pd.concat([df_listing,dummies_room_type],axis=1)\n",
    "df_listing.drop('room_type',axis=1,inplace=True)"
   ]
  },
  {
   "cell_type": "code",
   "execution_count": 134,
   "metadata": {},
   "outputs": [],
   "source": [
    "df_listing.bathrooms_text = df_listing.bathrooms_text.str.replace('1 private bath','1 bath')\n",
    "df_listing.bathrooms_text = df_listing.bathrooms_text.str.replace('1 shared bath','0.5 bath')\n",
    "df_listing.bathrooms_text = df_listing.bathrooms_text.str.replace('1.5 shared baths','0.75 bath')\n",
    "df_listing.bathrooms_text = df_listing.bathrooms_text.str.replace('2 shared baths','1 bath')\n",
    "df_listing.bathrooms_text = df_listing.bathrooms_text.str.replace('Half-bath','0.5 bath')\n",
    "df_listing.bathrooms_text = df_listing.bathrooms_text.str.replace('4 shared baths','2 baths')\n",
    "df_listing.bathrooms_text = df_listing.bathrooms_text.str.replace('2.5 shared baths','1.25 baths')\n",
    "df_listing.bathrooms_text = df_listing.bathrooms_text.str.replace('3 shared baths','1.5 baths')\n",
    "df_listing.bathrooms_text = df_listing.bathrooms_text.str.replace('Private half-bath','0.5 bath')\n",
    "df_listing.bathrooms_text = df_listing.bathrooms_text.str.replace('0 shared baths','0 bath')\n",
    "df_listing.bathrooms_text = df_listing.bathrooms_text.str.replace('2 bath','2 baths')\n",
    "df_listing.bathrooms_text = df_listing.bathrooms_text.str.replace('0 baths','0 bath')\n",
    "df_listing = df_listing[df_listing.bathrooms_text.notnull()]\n",
    "df_listing['bathrooms'] = df_listing.bathrooms_text.apply(lambda x:float(x.split(' ')[0]))\n",
    "df_listing.drop('bathrooms_text',axis=1,inplace=True)"
   ]
  },
  {
   "cell_type": "code",
   "execution_count": 135,
   "metadata": {},
   "outputs": [
    {
     "data": {
      "image/png": "[encoded data removed]",
      "text/plain": [
       "<Figure size 432x288 with 1 Axes>"
      ]
     },
     "metadata": {
      "needs_background": "light"
     },
     "output_type": "display_data"
    }
   ],
   "source": [
    "df_listing.loc[:,'host_identity_verified'] = df_listing.host_identity_verified.map({'t':1,'f':0});\n",
    "df_listing.groupby('host_identity_verified').price.median().plot(kind='bar',color='k',alpha=0.8);"
   ]
  },
  {
   "cell_type": "code",
   "execution_count": 136,
   "metadata": {},
   "outputs": [],
   "source": [
    "df_listing.drop('host_identity_verified',axis=1,inplace=True)\n",
    "df_listing.drop('description',axis=1,inplace=True)\n",
    "df_listing.drop('neighborhood_overview',axis=1,inplace=True)"
   ]
  },
  {
   "cell_type": "code",
   "execution_count": 137,
   "metadata": {},
   "outputs": [],
   "source": [
    "property_type = ['Entire house','Entire apartment','Private room in house','Entire condominium','Entire guesthouse',             \n",
    "'Entire serviced apartment','Private room in apartment','Entire townhouse','Entire bungalow','Entire guest suite']\n",
    "df_listing.property_type = df_listing.property_type.apply(lambda x: 'other' if x not in property_type else x)\n",
    "dummies_property_type = pd.get_dummies(df_listing.property_type,prefix='property_type',drop_first=True)\n",
    "df_listing = pd.concat([df_listing,dummies_property_type],axis=1)\n",
    "df_listing.drop('property_type',axis=1,inplace=True)"
   ]
  },
  {
   "cell_type": "code",
   "execution_count": 138,
   "metadata": {},
   "outputs": [],
   "source": [
    "df_listing['pool'] = df_listing.amenities.apply(lambda x: 1 if 'pool' in x.lower() else 0)\n",
    "df_listing['tv'] = df_listing.amenities.apply(lambda x: 1 if 'tv' in x.lower() else 0)\n",
    "df_listing['washer'] = df_listing.amenities.apply(lambda x: 1 if 'washer' in x.lower() else 0)\n",
    "df_listing['dryer'] = df_listing.amenities.apply(lambda x: 1 if 'dryer' in x.lower() else 0)\n",
    "df_listing['balcony'] = df_listing.amenities.apply(lambda x: 1 if 'balcony' in x.lower() else 0)\n",
    "df_listing['entrance'] = df_listing.amenities.apply(lambda x: 1 if 'entrance' in x.lower() else 0)\n",
    "df_listing['bbq'] = df_listing.amenities.apply(lambda x: 1 if 'bbq' in x.lower() else 0)"
   ]
  },
  {
   "cell_type": "code",
   "execution_count": 139,
   "metadata": {},
   "outputs": [
    {
     "data": {
      "image/png": "[encoded data removed]",
      "text/plain": [
       "<Figure size 432x288 with 1 Axes>"
      ]
     },
     "metadata": {
      "needs_background": "light"
     },
     "output_type": "display_data"
    }
   ],
   "source": [
    "df_listing.groupby('pool').price.median().plot(kind='bar');"
   ]
  },
  {
   "cell_type": "code",
   "execution_count": 140,
   "metadata": {},
   "outputs": [
    {
     "data": {
      "image/png": "[encoded data removed]",
      "text/plain": [
       "<Figure size 432x288 with 1 Axes>"
      ]
     },
     "metadata": {
      "needs_background": "light"
     },
     "output_type": "display_data"
    }
   ],
   "source": [
    "df_listing.groupby('tv').price.median().plot(kind='bar');"
   ]
  },
  {
   "cell_type": "code",
   "execution_count": 141,
   "metadata": {},
   "outputs": [
    {
     "data": {
      "image/png": "[encoded data removed]",
      "text/plain": [
       "<Figure size 432x288 with 1 Axes>"
      ]
     },
     "metadata": {
      "needs_background": "light"
     },
     "output_type": "display_data"
    }
   ],
   "source": [
    "df_listing.groupby('washer').price.median().plot(kind='bar');"
   ]
  },
  {
   "cell_type": "code",
   "execution_count": 142,
   "metadata": {},
   "outputs": [
    {
     "data": {
      "image/png": "[encoded data removed]",
      "text/plain": [
       "<Figure size 432x288 with 1 Axes>"
      ]
     },
     "metadata": {
      "needs_background": "light"
     },
     "output_type": "display_data"
    }
   ],
   "source": [
    "df_listing.groupby('dryer').price.median().plot(kind='bar');"
   ]
  },
  {
   "cell_type": "code",
   "execution_count": 143,
   "metadata": {},
   "outputs": [
    {
     "data": {
      "image/png": "[encoded data removed]",
      "text/plain": [
       "<Figure size 432x288 with 1 Axes>"
      ]
     },
     "metadata": {
      "needs_background": "light"
     },
     "output_type": "display_data"
    }
   ],
   "source": [
    "df_listing.groupby('balcony').price.median().plot(kind='bar');"
   ]
  },
  {
   "cell_type": "code",
   "execution_count": 144,
   "metadata": {},
   "outputs": [
    {
     "data": {
      "image/png": "[encoded data removed]",
      "text/plain": [
       "<Figure size 432x288 with 1 Axes>"
      ]
     },
     "metadata": {
      "needs_background": "light"
     },
     "output_type": "display_data"
    }
   ],
   "source": [
    "df_listing.groupby('entrance').price.median().plot(kind='bar');"
   ]
  },
  {
   "cell_type": "code",
   "execution_count": 145,
   "metadata": {},
   "outputs": [
    {
     "data": {
      "image/png": "[encoded data removed]",
      "text/plain": [
       "<Figure size 432x288 with 1 Axes>"
      ]
     },
     "metadata": {
      "needs_background": "light"
     },
     "output_type": "display_data"
    }
   ],
   "source": [
    "df_listing.groupby('bbq').price.median().plot(kind='bar');"
   ]
  },
  {
   "cell_type": "code",
   "execution_count": 150,
   "metadata": {},
   "outputs": [],
   "source": [
    "df_listing.beds.fillna(value=0,inplace=True)\n",
    "df_listing = df_listing[df_listing.host_is_superhost.notna()]"
   ]
  },
  {
   "cell_type": "code",
   "execution_count": 151,
   "metadata": {},
   "outputs": [
    {
     "name": "stdout",
     "output_type": "stream",
     "text": [
      "<class 'pandas.core.frame.DataFrame'>\n",
      "Int64Index: 10234 entries, 0 to 10271\n",
      "Data columns (total 47 columns):\n",
      " #   Column                                   Non-Null Count  Dtype         \n",
      "---  ------                                   --------------  -----         \n",
      " 0   id                                       10234 non-null  int64         \n",
      " 1   listing_url                              10234 non-null  object        \n",
      " 2   host_id                                  10234 non-null  int64         \n",
      " 3   host_since                               10234 non-null  datetime64[ns]\n",
      " 4   host_location                            10214 non-null  object        \n",
      " 5   host_acceptance_rate                     6833 non-null   object        \n",
      " 6   host_is_superhost                        10234 non-null  float64       \n",
      " 7   host_listings_count                      10234 non-null  float64       \n",
      " 8   host_total_listings_count                10234 non-null  float64       \n",
      " 9   host_verifications                       10234 non-null  object        \n",
      " 10  zip_code                                 10234 non-null  int64         \n",
      " 11  accommodates                             10234 non-null  int64         \n",
      " 12  bedrooms                                 10234 non-null  float64       \n",
      " 13  beds                                     10234 non-null  float64       \n",
      " 14  amenities                                10234 non-null  object        \n",
      " 15  price                                    10234 non-null  float64       \n",
      " 16  minimum_nights                           10234 non-null  int64         \n",
      " 17  maximum_nights                           10234 non-null  int64         \n",
      " 18  review_scores_rating                     7547 non-null   float64       \n",
      " 19  review_scores_accuracy                   7475 non-null   float64       \n",
      " 20  review_scores_cleanliness                7475 non-null   float64       \n",
      " 21  review_scores_checkin                    7474 non-null   float64       \n",
      " 22  review_scores_communication              7474 non-null   float64       \n",
      " 23  review_scores_location                   7469 non-null   float64       \n",
      " 24  review_scores_value                      7469 non-null   float64       \n",
      " 25  Timeframe                                7655 non-null   float64       \n",
      " 26  room_type__Hotel room                    10234 non-null  uint8         \n",
      " 27  room_type__Private room                  10234 non-null  uint8         \n",
      " 28  room_type__Shared room                   10234 non-null  uint8         \n",
      " 29  bathrooms                                10234 non-null  float64       \n",
      " 30  property_type_Entire bungalow            10234 non-null  uint8         \n",
      " 31  property_type_Entire condominium         10234 non-null  uint8         \n",
      " 32  property_type_Entire guest suite         10234 non-null  uint8         \n",
      " 33  property_type_Entire guesthouse          10234 non-null  uint8         \n",
      " 34  property_type_Entire house               10234 non-null  uint8         \n",
      " 35  property_type_Entire serviced apartment  10234 non-null  uint8         \n",
      " 36  property_type_Entire townhouse           10234 non-null  uint8         \n",
      " 37  property_type_Private room in apartment  10234 non-null  uint8         \n",
      " 38  property_type_Private room in house      10234 non-null  uint8         \n",
      " 39  property_type_other                      10234 non-null  uint8         \n",
      " 40  pool                                     10234 non-null  int64         \n",
      " 41  tv                                       10234 non-null  int64         \n",
      " 42  washer                                   10234 non-null  int64         \n",
      " 43  dryer                                    10234 non-null  int64         \n",
      " 44  balcony                                  10234 non-null  int64         \n",
      " 45  entrance                                 10234 non-null  int64         \n",
      " 46  bbq                                      10234 non-null  int64         \n",
      "dtypes: datetime64[ns](1), float64(15), int64(13), object(5), uint8(13)\n",
      "memory usage: 2.9+ MB\n"
     ]
    }
   ],
   "source": [
    "df_listing.info()"
   ]
  },
  {
   "cell_type": "code",
   "execution_count": 155,
   "metadata": {},
   "outputs": [
    {
     "data": {
      "text/html": [
       "<div>\n",
       "<style scoped>\n",
       "    .dataframe tbody tr th:only-of-type {\n",
       "        vertical-align: middle;\n",
       "    }\n",
       "\n",
       "    .dataframe tbody tr th {\n",
       "        vertical-align: top;\n",
       "    }\n",
       "\n",
       "    .dataframe thead th {\n",
       "        text-align: right;\n",
       "    }\n",
       "</style>\n",
       "<table border=\"1\" class=\"dataframe\">\n",
       "  <thead>\n",
       "    <tr style=\"text-align: right;\">\n",
       "      <th></th>\n",
       "      <th>id</th>\n",
       "      <th>listing_url</th>\n",
       "      <th>host_id</th>\n",
       "      <th>host_since</th>\n",
       "      <th>host_location</th>\n",
       "      <th>host_acceptance_rate</th>\n",
       "      <th>host_is_superhost</th>\n",
       "      <th>host_listings_count</th>\n",
       "      <th>host_total_listings_count</th>\n",
       "      <th>host_verifications</th>\n",
       "      <th>zip_code</th>\n",
       "      <th>accommodates</th>\n",
       "      <th>bedrooms</th>\n",
       "      <th>beds</th>\n",
       "      <th>amenities</th>\n",
       "      <th>price</th>\n",
       "      <th>minimum_nights</th>\n",
       "      <th>maximum_nights</th>\n",
       "      <th>review_scores_rating</th>\n",
       "      <th>review_scores_accuracy</th>\n",
       "      <th>review_scores_cleanliness</th>\n",
       "      <th>review_scores_checkin</th>\n",
       "      <th>review_scores_communication</th>\n",
       "      <th>review_scores_location</th>\n",
       "      <th>review_scores_value</th>\n",
       "      <th>Timeframe</th>\n",
       "      <th>room_type__Hotel room</th>\n",
       "      <th>room_type__Private room</th>\n",
       "      <th>room_type__Shared room</th>\n",
       "      <th>bathrooms</th>\n",
       "      <th>property_type_Entire bungalow</th>\n",
       "      <th>property_type_Entire condominium</th>\n",
       "      <th>property_type_Entire guest suite</th>\n",
       "      <th>property_type_Entire guesthouse</th>\n",
       "      <th>property_type_Entire house</th>\n",
       "      <th>property_type_Entire serviced apartment</th>\n",
       "      <th>property_type_Entire townhouse</th>\n",
       "      <th>property_type_Private room in apartment</th>\n",
       "      <th>property_type_Private room in house</th>\n",
       "      <th>property_type_other</th>\n",
       "      <th>pool</th>\n",
       "      <th>tv</th>\n",
       "      <th>washer</th>\n",
       "      <th>dryer</th>\n",
       "      <th>balcony</th>\n",
       "      <th>entrance</th>\n",
       "      <th>bbq</th>\n",
       "    </tr>\n",
       "  </thead>\n",
       "  <tbody>\n",
       "    <tr>\n",
       "      <th>51</th>\n",
       "      <td>80725</td>\n",
       "      <td>https://www.airbnb.com/rooms/80725</td>\n",
       "      <td>436771</td>\n",
       "      <td>2011-03-11</td>\n",
       "      <td>Austin, Texas, United States</td>\n",
       "      <td>NaN</td>\n",
       "      <td>0.0</td>\n",
       "      <td>1.0</td>\n",
       "      <td>1.0</td>\n",
       "      <td>['email', 'phone', 'kba']</td>\n",
       "      <td>78703</td>\n",
       "      <td>5</td>\n",
       "      <td>3.0</td>\n",
       "      <td>3.0</td>\n",
       "      <td>[\"Free parking on premises\", \"Hair dryer\", \"Ov...</td>\n",
       "      <td>150.0</td>\n",
       "      <td>30</td>\n",
       "      <td>1125</td>\n",
       "      <td>NaN</td>\n",
       "      <td>NaN</td>\n",
       "      <td>NaN</td>\n",
       "      <td>NaN</td>\n",
       "      <td>NaN</td>\n",
       "      <td>NaN</td>\n",
       "      <td>NaN</td>\n",
       "      <td>NaN</td>\n",
       "      <td>0</td>\n",
       "      <td>0</td>\n",
       "      <td>0</td>\n",
       "      <td>2.0</td>\n",
       "      <td>1</td>\n",
       "      <td>0</td>\n",
       "      <td>0</td>\n",
       "      <td>0</td>\n",
       "      <td>0</td>\n",
       "      <td>0</td>\n",
       "      <td>0</td>\n",
       "      <td>0</td>\n",
       "      <td>0</td>\n",
       "      <td>0</td>\n",
       "      <td>0</td>\n",
       "      <td>1</td>\n",
       "      <td>1</td>\n",
       "      <td>1</td>\n",
       "      <td>1</td>\n",
       "      <td>1</td>\n",
       "      <td>0</td>\n",
       "    </tr>\n",
       "    <tr>\n",
       "      <th>114</th>\n",
       "      <td>324480</td>\n",
       "      <td>https://www.airbnb.com/rooms/324480</td>\n",
       "      <td>1660476</td>\n",
       "      <td>2012-01-27</td>\n",
       "      <td>United States</td>\n",
       "      <td>50%</td>\n",
       "      <td>0.0</td>\n",
       "      <td>0.0</td>\n",
       "      <td>0.0</td>\n",
       "      <td>['email', 'phone']</td>\n",
       "      <td>78705</td>\n",
       "      <td>2</td>\n",
       "      <td>1.0</td>\n",
       "      <td>1.0</td>\n",
       "      <td>[\"Air conditioning\", \"Heating\", \"TV\", \"Long te...</td>\n",
       "      <td>80.0</td>\n",
       "      <td>30</td>\n",
       "      <td>180</td>\n",
       "      <td>NaN</td>\n",
       "      <td>NaN</td>\n",
       "      <td>NaN</td>\n",
       "      <td>NaN</td>\n",
       "      <td>NaN</td>\n",
       "      <td>NaN</td>\n",
       "      <td>NaN</td>\n",
       "      <td>NaN</td>\n",
       "      <td>0</td>\n",
       "      <td>0</td>\n",
       "      <td>0</td>\n",
       "      <td>1.0</td>\n",
       "      <td>0</td>\n",
       "      <td>0</td>\n",
       "      <td>0</td>\n",
       "      <td>0</td>\n",
       "      <td>0</td>\n",
       "      <td>0</td>\n",
       "      <td>0</td>\n",
       "      <td>0</td>\n",
       "      <td>0</td>\n",
       "      <td>0</td>\n",
       "      <td>0</td>\n",
       "      <td>1</td>\n",
       "      <td>0</td>\n",
       "      <td>0</td>\n",
       "      <td>0</td>\n",
       "      <td>0</td>\n",
       "      <td>0</td>\n",
       "    </tr>\n",
       "    <tr>\n",
       "      <th>120</th>\n",
       "      <td>331549</td>\n",
       "      <td>https://www.airbnb.com/rooms/331549</td>\n",
       "      <td>1690383</td>\n",
       "      <td>2012-02-02</td>\n",
       "      <td>Austin, Texas, United States</td>\n",
       "      <td>NaN</td>\n",
       "      <td>0.0</td>\n",
       "      <td>1.0</td>\n",
       "      <td>1.0</td>\n",
       "      <td>['email', 'phone']</td>\n",
       "      <td>78725</td>\n",
       "      <td>2</td>\n",
       "      <td>1.0</td>\n",
       "      <td>1.0</td>\n",
       "      <td>[\"Indoor fireplace\", \"Free parking on premises...</td>\n",
       "      <td>100.0</td>\n",
       "      <td>2</td>\n",
       "      <td>14</td>\n",
       "      <td>NaN</td>\n",
       "      <td>NaN</td>\n",
       "      <td>NaN</td>\n",
       "      <td>NaN</td>\n",
       "      <td>NaN</td>\n",
       "      <td>NaN</td>\n",
       "      <td>NaN</td>\n",
       "      <td>NaN</td>\n",
       "      <td>0</td>\n",
       "      <td>1</td>\n",
       "      <td>0</td>\n",
       "      <td>1.0</td>\n",
       "      <td>0</td>\n",
       "      <td>0</td>\n",
       "      <td>0</td>\n",
       "      <td>0</td>\n",
       "      <td>0</td>\n",
       "      <td>0</td>\n",
       "      <td>0</td>\n",
       "      <td>0</td>\n",
       "      <td>0</td>\n",
       "      <td>1</td>\n",
       "      <td>0</td>\n",
       "      <td>1</td>\n",
       "      <td>1</td>\n",
       "      <td>1</td>\n",
       "      <td>0</td>\n",
       "      <td>0</td>\n",
       "      <td>0</td>\n",
       "    </tr>\n",
       "    <tr>\n",
       "      <th>121</th>\n",
       "      <td>333114</td>\n",
       "      <td>https://www.airbnb.com/rooms/333114</td>\n",
       "      <td>1697428</td>\n",
       "      <td>2012-02-04</td>\n",
       "      <td>Austin, Texas, United States</td>\n",
       "      <td>NaN</td>\n",
       "      <td>0.0</td>\n",
       "      <td>1.0</td>\n",
       "      <td>1.0</td>\n",
       "      <td>['email', 'phone', 'reviews', 'kba']</td>\n",
       "      <td>78754</td>\n",
       "      <td>4</td>\n",
       "      <td>1.0</td>\n",
       "      <td>1.0</td>\n",
       "      <td>[\"Shampoo\", \"Free parking on premises\", \"Hair ...</td>\n",
       "      <td>109.0</td>\n",
       "      <td>1</td>\n",
       "      <td>2</td>\n",
       "      <td>NaN</td>\n",
       "      <td>NaN</td>\n",
       "      <td>NaN</td>\n",
       "      <td>NaN</td>\n",
       "      <td>NaN</td>\n",
       "      <td>NaN</td>\n",
       "      <td>NaN</td>\n",
       "      <td>NaN</td>\n",
       "      <td>0</td>\n",
       "      <td>1</td>\n",
       "      <td>0</td>\n",
       "      <td>2.0</td>\n",
       "      <td>0</td>\n",
       "      <td>0</td>\n",
       "      <td>0</td>\n",
       "      <td>0</td>\n",
       "      <td>0</td>\n",
       "      <td>0</td>\n",
       "      <td>0</td>\n",
       "      <td>0</td>\n",
       "      <td>1</td>\n",
       "      <td>0</td>\n",
       "      <td>0</td>\n",
       "      <td>1</td>\n",
       "      <td>1</td>\n",
       "      <td>1</td>\n",
       "      <td>0</td>\n",
       "      <td>0</td>\n",
       "      <td>0</td>\n",
       "    </tr>\n",
       "    <tr>\n",
       "      <th>126</th>\n",
       "      <td>340045</td>\n",
       "      <td>https://www.airbnb.com/rooms/340045</td>\n",
       "      <td>1725752</td>\n",
       "      <td>2012-02-09</td>\n",
       "      <td>Austin, Texas, United States</td>\n",
       "      <td>NaN</td>\n",
       "      <td>0.0</td>\n",
       "      <td>1.0</td>\n",
       "      <td>1.0</td>\n",
       "      <td>['email', 'phone', 'facebook', 'kba']</td>\n",
       "      <td>78746</td>\n",
       "      <td>3</td>\n",
       "      <td>1.0</td>\n",
       "      <td>1.0</td>\n",
       "      <td>[\"Indoor fireplace\", \"Free parking on premises...</td>\n",
       "      <td>400.0</td>\n",
       "      <td>4</td>\n",
       "      <td>90</td>\n",
       "      <td>NaN</td>\n",
       "      <td>NaN</td>\n",
       "      <td>NaN</td>\n",
       "      <td>NaN</td>\n",
       "      <td>NaN</td>\n",
       "      <td>NaN</td>\n",
       "      <td>NaN</td>\n",
       "      <td>NaN</td>\n",
       "      <td>0</td>\n",
       "      <td>0</td>\n",
       "      <td>0</td>\n",
       "      <td>1.5</td>\n",
       "      <td>0</td>\n",
       "      <td>0</td>\n",
       "      <td>0</td>\n",
       "      <td>0</td>\n",
       "      <td>0</td>\n",
       "      <td>0</td>\n",
       "      <td>0</td>\n",
       "      <td>0</td>\n",
       "      <td>0</td>\n",
       "      <td>1</td>\n",
       "      <td>1</td>\n",
       "      <td>1</td>\n",
       "      <td>1</td>\n",
       "      <td>1</td>\n",
       "      <td>0</td>\n",
       "      <td>0</td>\n",
       "      <td>0</td>\n",
       "    </tr>\n",
       "    <tr>\n",
       "      <th>...</th>\n",
       "      <td>...</td>\n",
       "      <td>...</td>\n",
       "      <td>...</td>\n",
       "      <td>...</td>\n",
       "      <td>...</td>\n",
       "      <td>...</td>\n",
       "      <td>...</td>\n",
       "      <td>...</td>\n",
       "      <td>...</td>\n",
       "      <td>...</td>\n",
       "      <td>...</td>\n",
       "      <td>...</td>\n",
       "      <td>...</td>\n",
       "      <td>...</td>\n",
       "      <td>...</td>\n",
       "      <td>...</td>\n",
       "      <td>...</td>\n",
       "      <td>...</td>\n",
       "      <td>...</td>\n",
       "      <td>...</td>\n",
       "      <td>...</td>\n",
       "      <td>...</td>\n",
       "      <td>...</td>\n",
       "      <td>...</td>\n",
       "      <td>...</td>\n",
       "      <td>...</td>\n",
       "      <td>...</td>\n",
       "      <td>...</td>\n",
       "      <td>...</td>\n",
       "      <td>...</td>\n",
       "      <td>...</td>\n",
       "      <td>...</td>\n",
       "      <td>...</td>\n",
       "      <td>...</td>\n",
       "      <td>...</td>\n",
       "      <td>...</td>\n",
       "      <td>...</td>\n",
       "      <td>...</td>\n",
       "      <td>...</td>\n",
       "      <td>...</td>\n",
       "      <td>...</td>\n",
       "      <td>...</td>\n",
       "      <td>...</td>\n",
       "      <td>...</td>\n",
       "      <td>...</td>\n",
       "      <td>...</td>\n",
       "      <td>...</td>\n",
       "    </tr>\n",
       "    <tr>\n",
       "      <th>10267</th>\n",
       "      <td>48107269</td>\n",
       "      <td>https://www.airbnb.com/rooms/48107269</td>\n",
       "      <td>368944610</td>\n",
       "      <td>2020-09-23</td>\n",
       "      <td>Houston, Texas, United States</td>\n",
       "      <td>100%</td>\n",
       "      <td>0.0</td>\n",
       "      <td>1813.0</td>\n",
       "      <td>1813.0</td>\n",
       "      <td>['phone']</td>\n",
       "      <td>78758</td>\n",
       "      <td>5</td>\n",
       "      <td>2.0</td>\n",
       "      <td>2.0</td>\n",
       "      <td>[\"Hair dryer\", \"Oven\", \"Stove\", \"Dishes and si...</td>\n",
       "      <td>185.0</td>\n",
       "      <td>31</td>\n",
       "      <td>365</td>\n",
       "      <td>NaN</td>\n",
       "      <td>NaN</td>\n",
       "      <td>NaN</td>\n",
       "      <td>NaN</td>\n",
       "      <td>NaN</td>\n",
       "      <td>NaN</td>\n",
       "      <td>NaN</td>\n",
       "      <td>NaN</td>\n",
       "      <td>0</td>\n",
       "      <td>0</td>\n",
       "      <td>0</td>\n",
       "      <td>2.0</td>\n",
       "      <td>0</td>\n",
       "      <td>0</td>\n",
       "      <td>0</td>\n",
       "      <td>0</td>\n",
       "      <td>0</td>\n",
       "      <td>1</td>\n",
       "      <td>0</td>\n",
       "      <td>0</td>\n",
       "      <td>0</td>\n",
       "      <td>0</td>\n",
       "      <td>1</td>\n",
       "      <td>1</td>\n",
       "      <td>1</td>\n",
       "      <td>1</td>\n",
       "      <td>1</td>\n",
       "      <td>1</td>\n",
       "      <td>0</td>\n",
       "    </tr>\n",
       "    <tr>\n",
       "      <th>10268</th>\n",
       "      <td>48107277</td>\n",
       "      <td>https://www.airbnb.com/rooms/48107277</td>\n",
       "      <td>368944610</td>\n",
       "      <td>2020-09-23</td>\n",
       "      <td>Houston, Texas, United States</td>\n",
       "      <td>100%</td>\n",
       "      <td>0.0</td>\n",
       "      <td>1813.0</td>\n",
       "      <td>1813.0</td>\n",
       "      <td>['phone']</td>\n",
       "      <td>78758</td>\n",
       "      <td>3</td>\n",
       "      <td>1.0</td>\n",
       "      <td>1.0</td>\n",
       "      <td>[\"Hair dryer\", \"Stove\", \"Oven\", \"Dishes and si...</td>\n",
       "      <td>153.0</td>\n",
       "      <td>31</td>\n",
       "      <td>365</td>\n",
       "      <td>NaN</td>\n",
       "      <td>NaN</td>\n",
       "      <td>NaN</td>\n",
       "      <td>NaN</td>\n",
       "      <td>NaN</td>\n",
       "      <td>NaN</td>\n",
       "      <td>NaN</td>\n",
       "      <td>NaN</td>\n",
       "      <td>0</td>\n",
       "      <td>0</td>\n",
       "      <td>0</td>\n",
       "      <td>1.0</td>\n",
       "      <td>0</td>\n",
       "      <td>0</td>\n",
       "      <td>0</td>\n",
       "      <td>0</td>\n",
       "      <td>0</td>\n",
       "      <td>1</td>\n",
       "      <td>0</td>\n",
       "      <td>0</td>\n",
       "      <td>0</td>\n",
       "      <td>0</td>\n",
       "      <td>1</td>\n",
       "      <td>1</td>\n",
       "      <td>1</td>\n",
       "      <td>1</td>\n",
       "      <td>1</td>\n",
       "      <td>1</td>\n",
       "      <td>0</td>\n",
       "    </tr>\n",
       "    <tr>\n",
       "      <th>10269</th>\n",
       "      <td>48109299</td>\n",
       "      <td>https://www.airbnb.com/rooms/48109299</td>\n",
       "      <td>359036978</td>\n",
       "      <td>2020-07-28</td>\n",
       "      <td>Houston, Texas, United States</td>\n",
       "      <td>94%</td>\n",
       "      <td>1.0</td>\n",
       "      <td>751.0</td>\n",
       "      <td>751.0</td>\n",
       "      <td>['email', 'phone']</td>\n",
       "      <td>78729</td>\n",
       "      <td>3</td>\n",
       "      <td>1.0</td>\n",
       "      <td>1.0</td>\n",
       "      <td>[\"Free parking on premises\", \"Hair dryer\", \"Ov...</td>\n",
       "      <td>82.0</td>\n",
       "      <td>30</td>\n",
       "      <td>365</td>\n",
       "      <td>NaN</td>\n",
       "      <td>NaN</td>\n",
       "      <td>NaN</td>\n",
       "      <td>NaN</td>\n",
       "      <td>NaN</td>\n",
       "      <td>NaN</td>\n",
       "      <td>NaN</td>\n",
       "      <td>NaN</td>\n",
       "      <td>0</td>\n",
       "      <td>0</td>\n",
       "      <td>0</td>\n",
       "      <td>1.0</td>\n",
       "      <td>0</td>\n",
       "      <td>0</td>\n",
       "      <td>0</td>\n",
       "      <td>0</td>\n",
       "      <td>0</td>\n",
       "      <td>1</td>\n",
       "      <td>0</td>\n",
       "      <td>0</td>\n",
       "      <td>0</td>\n",
       "      <td>0</td>\n",
       "      <td>1</td>\n",
       "      <td>1</td>\n",
       "      <td>1</td>\n",
       "      <td>1</td>\n",
       "      <td>1</td>\n",
       "      <td>1</td>\n",
       "      <td>1</td>\n",
       "    </tr>\n",
       "    <tr>\n",
       "      <th>10270</th>\n",
       "      <td>48109324</td>\n",
       "      <td>https://www.airbnb.com/rooms/48109324</td>\n",
       "      <td>359036978</td>\n",
       "      <td>2020-07-28</td>\n",
       "      <td>Houston, Texas, United States</td>\n",
       "      <td>94%</td>\n",
       "      <td>1.0</td>\n",
       "      <td>751.0</td>\n",
       "      <td>751.0</td>\n",
       "      <td>['email', 'phone']</td>\n",
       "      <td>78701</td>\n",
       "      <td>3</td>\n",
       "      <td>1.0</td>\n",
       "      <td>1.0</td>\n",
       "      <td>[\"Hair dryer\", \"Oven\", \"Stove\", \"Dishes and si...</td>\n",
       "      <td>153.0</td>\n",
       "      <td>30</td>\n",
       "      <td>365</td>\n",
       "      <td>NaN</td>\n",
       "      <td>NaN</td>\n",
       "      <td>NaN</td>\n",
       "      <td>NaN</td>\n",
       "      <td>NaN</td>\n",
       "      <td>NaN</td>\n",
       "      <td>NaN</td>\n",
       "      <td>NaN</td>\n",
       "      <td>0</td>\n",
       "      <td>0</td>\n",
       "      <td>0</td>\n",
       "      <td>1.0</td>\n",
       "      <td>0</td>\n",
       "      <td>0</td>\n",
       "      <td>0</td>\n",
       "      <td>0</td>\n",
       "      <td>0</td>\n",
       "      <td>1</td>\n",
       "      <td>0</td>\n",
       "      <td>0</td>\n",
       "      <td>0</td>\n",
       "      <td>0</td>\n",
       "      <td>1</td>\n",
       "      <td>1</td>\n",
       "      <td>1</td>\n",
       "      <td>1</td>\n",
       "      <td>1</td>\n",
       "      <td>1</td>\n",
       "      <td>1</td>\n",
       "    </tr>\n",
       "    <tr>\n",
       "      <th>10271</th>\n",
       "      <td>48111525</td>\n",
       "      <td>https://www.airbnb.com/rooms/48111525</td>\n",
       "      <td>387977994</td>\n",
       "      <td>2021-02-09</td>\n",
       "      <td>United States</td>\n",
       "      <td>100%</td>\n",
       "      <td>0.0</td>\n",
       "      <td>0.0</td>\n",
       "      <td>0.0</td>\n",
       "      <td>['email', 'phone']</td>\n",
       "      <td>78721</td>\n",
       "      <td>6</td>\n",
       "      <td>2.0</td>\n",
       "      <td>2.0</td>\n",
       "      <td>[\"Shampoo\", \"Free parking on premises\", \"Hair ...</td>\n",
       "      <td>175.0</td>\n",
       "      <td>1</td>\n",
       "      <td>1125</td>\n",
       "      <td>NaN</td>\n",
       "      <td>NaN</td>\n",
       "      <td>NaN</td>\n",
       "      <td>NaN</td>\n",
       "      <td>NaN</td>\n",
       "      <td>NaN</td>\n",
       "      <td>NaN</td>\n",
       "      <td>NaN</td>\n",
       "      <td>0</td>\n",
       "      <td>0</td>\n",
       "      <td>0</td>\n",
       "      <td>1.0</td>\n",
       "      <td>0</td>\n",
       "      <td>0</td>\n",
       "      <td>0</td>\n",
       "      <td>0</td>\n",
       "      <td>1</td>\n",
       "      <td>0</td>\n",
       "      <td>0</td>\n",
       "      <td>0</td>\n",
       "      <td>0</td>\n",
       "      <td>0</td>\n",
       "      <td>0</td>\n",
       "      <td>1</td>\n",
       "      <td>1</td>\n",
       "      <td>1</td>\n",
       "      <td>0</td>\n",
       "      <td>1</td>\n",
       "      <td>0</td>\n",
       "    </tr>\n",
       "  </tbody>\n",
       "</table>\n",
       "<p>2579 rows × 47 columns</p>\n",
       "</div>"
      ],
      "text/plain": [
       "             id                            listing_url    host_id host_since  \\\n",
       "51        80725     https://www.airbnb.com/rooms/80725     436771 2011-03-11   \n",
       "114      324480    https://www.airbnb.com/rooms/324480    1660476 2012-01-27   \n",
       "120      331549    https://www.airbnb.com/rooms/331549    1690383 2012-02-02   \n",
       "121      333114    https://www.airbnb.com/rooms/333114    1697428 2012-02-04   \n",
       "126      340045    https://www.airbnb.com/rooms/340045    1725752 2012-02-09   \n",
       "...         ...                                    ...        ...        ...   \n",
       "10267  48107269  https://www.airbnb.com/rooms/48107269  368944610 2020-09-23   \n",
       "10268  48107277  https://www.airbnb.com/rooms/48107277  368944610 2020-09-23   \n",
       "10269  48109299  https://www.airbnb.com/rooms/48109299  359036978 2020-07-28   \n",
       "10270  48109324  https://www.airbnb.com/rooms/48109324  359036978 2020-07-28   \n",
       "10271  48111525  https://www.airbnb.com/rooms/48111525  387977994 2021-02-09   \n",
       "\n",
       "                       host_location host_acceptance_rate  host_is_superhost  \\\n",
       "51      Austin, Texas, United States                  NaN                0.0   \n",
       "114                    United States                  50%                0.0   \n",
       "120     Austin, Texas, United States                  NaN                0.0   \n",
       "121     Austin, Texas, United States                  NaN                0.0   \n",
       "126     Austin, Texas, United States                  NaN                0.0   \n",
       "...                              ...                  ...                ...   \n",
       "10267  Houston, Texas, United States                 100%                0.0   \n",
       "10268  Houston, Texas, United States                 100%                0.0   \n",
       "10269  Houston, Texas, United States                  94%                1.0   \n",
       "10270  Houston, Texas, United States                  94%                1.0   \n",
       "10271                  United States                 100%                0.0   \n",
       "\n",
       "       host_listings_count  host_total_listings_count  \\\n",
       "51                     1.0                        1.0   \n",
       "114                    0.0                        0.0   \n",
       "120                    1.0                        1.0   \n",
       "121                    1.0                        1.0   \n",
       "126                    1.0                        1.0   \n",
       "...                    ...                        ...   \n",
       "10267               1813.0                     1813.0   \n",
       "10268               1813.0                     1813.0   \n",
       "10269                751.0                      751.0   \n",
       "10270                751.0                      751.0   \n",
       "10271                  0.0                        0.0   \n",
       "\n",
       "                          host_verifications  zip_code  accommodates  \\\n",
       "51                 ['email', 'phone', 'kba']     78703             5   \n",
       "114                       ['email', 'phone']     78705             2   \n",
       "120                       ['email', 'phone']     78725             2   \n",
       "121     ['email', 'phone', 'reviews', 'kba']     78754             4   \n",
       "126    ['email', 'phone', 'facebook', 'kba']     78746             3   \n",
       "...                                      ...       ...           ...   \n",
       "10267                              ['phone']     78758             5   \n",
       "10268                              ['phone']     78758             3   \n",
       "10269                     ['email', 'phone']     78729             3   \n",
       "10270                     ['email', 'phone']     78701             3   \n",
       "10271                     ['email', 'phone']     78721             6   \n",
       "\n",
       "       bedrooms  beds                                          amenities  \\\n",
       "51          3.0   3.0  [\"Free parking on premises\", \"Hair dryer\", \"Ov...   \n",
       "114         1.0   1.0  [\"Air conditioning\", \"Heating\", \"TV\", \"Long te...   \n",
       "120         1.0   1.0  [\"Indoor fireplace\", \"Free parking on premises...   \n",
       "121         1.0   1.0  [\"Shampoo\", \"Free parking on premises\", \"Hair ...   \n",
       "126         1.0   1.0  [\"Indoor fireplace\", \"Free parking on premises...   \n",
       "...         ...   ...                                                ...   \n",
       "10267       2.0   2.0  [\"Hair dryer\", \"Oven\", \"Stove\", \"Dishes and si...   \n",
       "10268       1.0   1.0  [\"Hair dryer\", \"Stove\", \"Oven\", \"Dishes and si...   \n",
       "10269       1.0   1.0  [\"Free parking on premises\", \"Hair dryer\", \"Ov...   \n",
       "10270       1.0   1.0  [\"Hair dryer\", \"Oven\", \"Stove\", \"Dishes and si...   \n",
       "10271       2.0   2.0  [\"Shampoo\", \"Free parking on premises\", \"Hair ...   \n",
       "\n",
       "       price  minimum_nights  maximum_nights  review_scores_rating  \\\n",
       "51     150.0              30            1125                   NaN   \n",
       "114     80.0              30             180                   NaN   \n",
       "120    100.0               2              14                   NaN   \n",
       "121    109.0               1               2                   NaN   \n",
       "126    400.0               4              90                   NaN   \n",
       "...      ...             ...             ...                   ...   \n",
       "10267  185.0              31             365                   NaN   \n",
       "10268  153.0              31             365                   NaN   \n",
       "10269   82.0              30             365                   NaN   \n",
       "10270  153.0              30             365                   NaN   \n",
       "10271  175.0               1            1125                   NaN   \n",
       "\n",
       "       review_scores_accuracy  review_scores_cleanliness  \\\n",
       "51                        NaN                        NaN   \n",
       "114                       NaN                        NaN   \n",
       "120                       NaN                        NaN   \n",
       "121                       NaN                        NaN   \n",
       "126                       NaN                        NaN   \n",
       "...                       ...                        ...   \n",
       "10267                     NaN                        NaN   \n",
       "10268                     NaN                        NaN   \n",
       "10269                     NaN                        NaN   \n",
       "10270                     NaN                        NaN   \n",
       "10271                     NaN                        NaN   \n",
       "\n",
       "       review_scores_checkin  review_scores_communication  \\\n",
       "51                       NaN                          NaN   \n",
       "114                      NaN                          NaN   \n",
       "120                      NaN                          NaN   \n",
       "121                      NaN                          NaN   \n",
       "126                      NaN                          NaN   \n",
       "...                      ...                          ...   \n",
       "10267                    NaN                          NaN   \n",
       "10268                    NaN                          NaN   \n",
       "10269                    NaN                          NaN   \n",
       "10270                    NaN                          NaN   \n",
       "10271                    NaN                          NaN   \n",
       "\n",
       "       review_scores_location  review_scores_value  Timeframe  \\\n",
       "51                        NaN                  NaN        NaN   \n",
       "114                       NaN                  NaN        NaN   \n",
       "120                       NaN                  NaN        NaN   \n",
       "121                       NaN                  NaN        NaN   \n",
       "126                       NaN                  NaN        NaN   \n",
       "...                       ...                  ...        ...   \n",
       "10267                     NaN                  NaN        NaN   \n",
       "10268                     NaN                  NaN        NaN   \n",
       "10269                     NaN                  NaN        NaN   \n",
       "10270                     NaN                  NaN        NaN   \n",
       "10271                     NaN                  NaN        NaN   \n",
       "\n",
       "       room_type__Hotel room  room_type__Private room  room_type__Shared room  \\\n",
       "51                         0                        0                       0   \n",
       "114                        0                        0                       0   \n",
       "120                        0                        1                       0   \n",
       "121                        0                        1                       0   \n",
       "126                        0                        0                       0   \n",
       "...                      ...                      ...                     ...   \n",
       "10267                      0                        0                       0   \n",
       "10268                      0                        0                       0   \n",
       "10269                      0                        0                       0   \n",
       "10270                      0                        0                       0   \n",
       "10271                      0                        0                       0   \n",
       "\n",
       "       bathrooms  property_type_Entire bungalow  \\\n",
       "51           2.0                              1   \n",
       "114          1.0                              0   \n",
       "120          1.0                              0   \n",
       "121          2.0                              0   \n",
       "126          1.5                              0   \n",
       "...          ...                            ...   \n",
       "10267        2.0                              0   \n",
       "10268        1.0                              0   \n",
       "10269        1.0                              0   \n",
       "10270        1.0                              0   \n",
       "10271        1.0                              0   \n",
       "\n",
       "       property_type_Entire condominium  property_type_Entire guest suite  \\\n",
       "51                                    0                                 0   \n",
       "114                                   0                                 0   \n",
       "120                                   0                                 0   \n",
       "121                                   0                                 0   \n",
       "126                                   0                                 0   \n",
       "...                                 ...                               ...   \n",
       "10267                                 0                                 0   \n",
       "10268                                 0                                 0   \n",
       "10269                                 0                                 0   \n",
       "10270                                 0                                 0   \n",
       "10271                                 0                                 0   \n",
       "\n",
       "       property_type_Entire guesthouse  property_type_Entire house  \\\n",
       "51                                   0                           0   \n",
       "114                                  0                           0   \n",
       "120                                  0                           0   \n",
       "121                                  0                           0   \n",
       "126                                  0                           0   \n",
       "...                                ...                         ...   \n",
       "10267                                0                           0   \n",
       "10268                                0                           0   \n",
       "10269                                0                           0   \n",
       "10270                                0                           0   \n",
       "10271                                0                           1   \n",
       "\n",
       "       property_type_Entire serviced apartment  \\\n",
       "51                                           0   \n",
       "114                                          0   \n",
       "120                                          0   \n",
       "121                                          0   \n",
       "126                                          0   \n",
       "...                                        ...   \n",
       "10267                                        1   \n",
       "10268                                        1   \n",
       "10269                                        1   \n",
       "10270                                        1   \n",
       "10271                                        0   \n",
       "\n",
       "       property_type_Entire townhouse  \\\n",
       "51                                  0   \n",
       "114                                 0   \n",
       "120                                 0   \n",
       "121                                 0   \n",
       "126                                 0   \n",
       "...                               ...   \n",
       "10267                               0   \n",
       "10268                               0   \n",
       "10269                               0   \n",
       "10270                               0   \n",
       "10271                               0   \n",
       "\n",
       "       property_type_Private room in apartment  \\\n",
       "51                                           0   \n",
       "114                                          0   \n",
       "120                                          0   \n",
       "121                                          0   \n",
       "126                                          0   \n",
       "...                                        ...   \n",
       "10267                                        0   \n",
       "10268                                        0   \n",
       "10269                                        0   \n",
       "10270                                        0   \n",
       "10271                                        0   \n",
       "\n",
       "       property_type_Private room in house  property_type_other  pool  tv  \\\n",
       "51                                       0                    0     0   1   \n",
       "114                                      0                    0     0   1   \n",
       "120                                      0                    1     0   1   \n",
       "121                                      1                    0     0   1   \n",
       "126                                      0                    1     1   1   \n",
       "...                                    ...                  ...   ...  ..   \n",
       "10267                                    0                    0     1   1   \n",
       "10268                                    0                    0     1   1   \n",
       "10269                                    0                    0     1   1   \n",
       "10270                                    0                    0     1   1   \n",
       "10271                                    0                    0     0   1   \n",
       "\n",
       "       washer  dryer  balcony  entrance  bbq  \n",
       "51          1      1        1         1    0  \n",
       "114         0      0        0         0    0  \n",
       "120         1      1        0         0    0  \n",
       "121         1      1        0         0    0  \n",
       "126         1      1        0         0    0  \n",
       "...       ...    ...      ...       ...  ...  \n",
       "10267       1      1        1         1    0  \n",
       "10268       1      1        1         1    0  \n",
       "10269       1      1        1         1    1  \n",
       "10270       1      1        1         1    1  \n",
       "10271       1      1        0         1    0  \n",
       "\n",
       "[2579 rows x 47 columns]"
      ]
     },
     "execution_count": 155,
     "metadata": {},
     "output_type": "execute_result"
    }
   ],
   "source": [
    "df_listing[df_listing.Timeframe.isna()]"
   ]
  },
  {
   "cell_type": "markdown",
   "metadata": {},
   "source": [
    "## Machine Learning Section"
   ]
  },
  {
   "cell_type": "markdown",
   "metadata": {},
   "source": [
    "### Linear Regression"
   ]
  },
  {
   "cell_type": "code",
   "execution_count": 152,
   "metadata": {},
   "outputs": [],
   "source": [
    "features =[]\n",
    "X = df_listing[features]\n",
    "y= df_listing.price\n",
    "X_train,X_test,y_train,y_test = train_test_split(X,y)"
   ]
  },
  {
   "cell_type": "code",
   "execution_count": null,
   "metadata": {},
   "outputs": [],
   "source": []
  },
  {
   "cell_type": "code",
   "execution_count": null,
   "metadata": {},
   "outputs": [],
   "source": []
  },
  {
   "cell_type": "markdown",
   "metadata": {},
   "source": [
    "### Decision Tree"
   ]
  },
  {
   "cell_type": "code",
   "execution_count": null,
   "metadata": {},
   "outputs": [],
   "source": []
  },
  {
   "cell_type": "code",
   "execution_count": null,
   "metadata": {},
   "outputs": [],
   "source": []
  },
  {
   "cell_type": "code",
   "execution_count": null,
   "metadata": {},
   "outputs": [],
   "source": []
  },
  {
   "cell_type": "markdown",
   "metadata": {},
   "source": [
    "### XGBoost "
   ]
  },
  {
   "cell_type": "code",
   "execution_count": null,
   "metadata": {},
   "outputs": [],
   "source": []
  }
 ],
 "metadata": {
  "kernelspec": {
   "display_name": "Python 3",
   "language": "python",
   "name": "python3"
  },
  "language_info": {
   "codemirror_mode": {
    "name": "ipython",
    "version": 3
   },
   "file_extension": ".py",
   "mimetype": "text/x-python",
   "name": "python",
   "nbconvert_exporter": "python",
   "pygments_lexer": "ipython3",
   "version": "3.7.9"
  }
 },
 "nbformat": 4,
 "nbformat_minor": 4
}
